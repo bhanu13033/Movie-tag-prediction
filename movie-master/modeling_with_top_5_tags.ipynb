{
 "cells": [
  {
   "cell_type": "markdown",
   "metadata": {
    "colab_type": "text",
    "id": "vY9Mk8ZiDCor"
   },
   "source": [
    "<h1><center>MPST: A Corpus of Movie Plot Synopses with Tags</center></h1>"
   ]
  },
  {
   "cell_type": "code",
   "execution_count": 1,
   "metadata": {
    "colab": {
     "base_uri": "https://localhost:8080/",
     "height": 190
    },
    "colab_type": "code",
    "id": "a2gjRKhJDCot",
    "outputId": "510604f5-7ab0-427a-94dc-522aebf2c0d0",
    "scrolled": true
   },
   "outputs": [
    {
     "name": "stdout",
     "output_type": "stream",
     "text": [
      "Requirement already satisfied: scikit-multilearn in c:\\users\\bhanu\\anaconda3\\lib\\site-packages (0.2.0)\n"
     ]
    },
    {
     "name": "stderr",
     "output_type": "stream",
     "text": [
      "[nltk_data] Downloading package punkt to\n",
      "[nltk_data]     C:\\Users\\bhanu\\AppData\\Roaming\\nltk_data...\n",
      "[nltk_data]   Package punkt is already up-to-date!\n",
      "[nltk_data] Downloading package wordnet to\n",
      "[nltk_data]     C:\\Users\\bhanu\\AppData\\Roaming\\nltk_data...\n",
      "[nltk_data]   Package wordnet is already up-to-date!\n"
     ]
    },
    {
     "data": {
      "application/javascript": [
       "IPython.notebook.set_autosave_interval(120000)"
      ]
     },
     "metadata": {},
     "output_type": "display_data"
    },
    {
     "name": "stdout",
     "output_type": "stream",
     "text": [
      "Autosaving every 120 seconds\n"
     ]
    }
   ],
   "source": [
    "!pip install scikit-multilearn\n",
    "\n",
    "import re\n",
    "import os\n",
    "import tqdm\n",
    "import nltk\n",
    "import pickle\n",
    "import sqlite3\n",
    "import warnings\n",
    "import numpy as np\n",
    "import pandas as pd\n",
    "from tqdm import tqdm\n",
    "import seaborn as sns\n",
    "import xgboost as xgb\n",
    "import tensorflow as tf\n",
    "from sklearn import metrics\n",
    "from tensorflow import keras\n",
    "from nltk.corpus import words\n",
    "from datetime import datetime\n",
    "from bs4 import BeautifulSoup\n",
    "from wordcloud import WordCloud\n",
    "import matplotlib.pyplot as plt\n",
    "from nltk.corpus import stopwords\n",
    "from gensim.models import Word2Vec\n",
    "from itertools import combinations\n",
    "from keras.models import load_model\n",
    "from keras.models import Sequential\n",
    "from tensorflow.keras import layers\n",
    "from nltk.stem import SnowballStemmer\n",
    "from sklearn.pipeline import Pipeline\n",
    "from nltk.tokenize import sent_tokenize\n",
    "from keras.preprocessing import sequence\n",
    "from scipy.sparse import coo_matrix, hstack\n",
    "from tensorflow.keras.utils import plot_model\n",
    "from keras.layers.embeddings import Embedding\n",
    "from sklearn.naive_bayes import MultinomialNB\n",
    "from sklearn.linear_model import SGDClassifier\n",
    "from sklearn.model_selection import GridSearchCV\n",
    "from sklearn.metrics import classification_report\n",
    "from sklearn.multiclass import OneVsRestClassifier\n",
    "from sklearn.linear_model import LogisticRegression\n",
    "from sklearn.preprocessing import MultiLabelBinarizer\n",
    "from sklearn.model_selection import RandomizedSearchCV\n",
    "from skmultilearn.problem_transform import BinaryRelevance\n",
    "from sklearn.feature_extraction.text import CountVectorizer, TfidfVectorizer\n",
    "from sklearn.metrics import f1_score,precision_score,recall_score,hamming_loss\n",
    "from keras.layers import Conv1D, Conv2D, Dense, Dropout, Flatten, LSTM, GlobalMaxPooling1D, MaxPooling2D, Activation, BatchNormalization\n",
    "\n",
    "%matplotlib inline\n",
    "nltk.download('punkt')\n",
    "nltk.download('wordnet')\n",
    "warnings.filterwarnings(\"ignore\")\n",
    "stemmer = SnowballStemmer('english')\n",
    "\n",
    "%autosave 120"
   ]
  },
  {
   "cell_type": "code",
   "execution_count": 2,
   "metadata": {
    "colab": {
     "base_uri": "https://localhost:8080/",
     "height": 576
    },
    "colab_type": "code",
    "id": "xZUxde7VDCoy",
    "outputId": "53731984-dbb9-47ac-fb27-2db2e4e40e03"
   },
   "outputs": [
    {
     "data": {
      "text/html": [
       "<div>\n",
       "<style scoped>\n",
       "    .dataframe tbody tr th:only-of-type {\n",
       "        vertical-align: middle;\n",
       "    }\n",
       "\n",
       "    .dataframe tbody tr th {\n",
       "        vertical-align: top;\n",
       "    }\n",
       "\n",
       "    .dataframe thead th {\n",
       "        text-align: right;\n",
       "    }\n",
       "</style>\n",
       "<table border=\"1\" class=\"dataframe\">\n",
       "  <thead>\n",
       "    <tr style=\"text-align: right;\">\n",
       "      <th></th>\n",
       "      <th>title</th>\n",
       "      <th>plot_synopsis</th>\n",
       "      <th>tags</th>\n",
       "      <th>split</th>\n",
       "      <th>synopsis_source</th>\n",
       "      <th>cnt_dup</th>\n",
       "      <th>tag_count</th>\n",
       "      <th>synopsis_count</th>\n",
       "      <th>synopsis_sent_count</th>\n",
       "      <th>CleanedSynopsis</th>\n",
       "      <th>...</th>\n",
       "      <th>sentimental</th>\n",
       "      <th>storytelling</th>\n",
       "      <th>stupid</th>\n",
       "      <th>suicidal</th>\n",
       "      <th>suspenseful</th>\n",
       "      <th>thought-provoking</th>\n",
       "      <th>tragedy</th>\n",
       "      <th>violence</th>\n",
       "      <th>western</th>\n",
       "      <th>whimsical</th>\n",
       "    </tr>\n",
       "  </thead>\n",
       "  <tbody>\n",
       "    <tr>\n",
       "      <th>0</th>\n",
       "      <td>$</td>\n",
       "      <td>Set in Hamburg, West Germany, several criminal...</td>\n",
       "      <td>murder</td>\n",
       "      <td>test</td>\n",
       "      <td>imdb</td>\n",
       "      <td>1</td>\n",
       "      <td>1</td>\n",
       "      <td>648</td>\n",
       "      <td>26</td>\n",
       "      <td>set hamburg west germani sever crimin take adv...</td>\n",
       "      <td>...</td>\n",
       "      <td>0</td>\n",
       "      <td>0</td>\n",
       "      <td>0</td>\n",
       "      <td>0</td>\n",
       "      <td>0</td>\n",
       "      <td>0</td>\n",
       "      <td>0</td>\n",
       "      <td>0</td>\n",
       "      <td>0</td>\n",
       "      <td>0</td>\n",
       "    </tr>\n",
       "    <tr>\n",
       "      <th>1</th>\n",
       "      <td>$windle</td>\n",
       "      <td>A 6th grader named Griffin Bing decides to gat...</td>\n",
       "      <td>flashback</td>\n",
       "      <td>train</td>\n",
       "      <td>wikipedia</td>\n",
       "      <td>1</td>\n",
       "      <td>1</td>\n",
       "      <td>353</td>\n",
       "      <td>14</td>\n",
       "      <td>grader name griffin bing decid gather entir gr...</td>\n",
       "      <td>...</td>\n",
       "      <td>0</td>\n",
       "      <td>0</td>\n",
       "      <td>0</td>\n",
       "      <td>0</td>\n",
       "      <td>0</td>\n",
       "      <td>0</td>\n",
       "      <td>0</td>\n",
       "      <td>0</td>\n",
       "      <td>0</td>\n",
       "      <td>0</td>\n",
       "    </tr>\n",
       "    <tr>\n",
       "      <th>2</th>\n",
       "      <td>'71</td>\n",
       "      <td>Gary Hook, a new recruit to the British Army, ...</td>\n",
       "      <td>suspenseful, neo noir, murder, violence</td>\n",
       "      <td>train</td>\n",
       "      <td>wikipedia</td>\n",
       "      <td>1</td>\n",
       "      <td>4</td>\n",
       "      <td>699</td>\n",
       "      <td>39</td>\n",
       "      <td>gari hook new recruit british armi take leav m...</td>\n",
       "      <td>...</td>\n",
       "      <td>0</td>\n",
       "      <td>0</td>\n",
       "      <td>0</td>\n",
       "      <td>0</td>\n",
       "      <td>1</td>\n",
       "      <td>0</td>\n",
       "      <td>0</td>\n",
       "      <td>1</td>\n",
       "      <td>0</td>\n",
       "      <td>0</td>\n",
       "    </tr>\n",
       "    <tr>\n",
       "      <th>3</th>\n",
       "      <td>'A' gai wak</td>\n",
       "      <td>Sergeant Dragon Ma (Jackie Chan) is part of th...</td>\n",
       "      <td>cult, violence</td>\n",
       "      <td>train</td>\n",
       "      <td>wikipedia</td>\n",
       "      <td>1</td>\n",
       "      <td>2</td>\n",
       "      <td>665</td>\n",
       "      <td>41</td>\n",
       "      <td>sergeant dragon jacki chan part hong kong mari...</td>\n",
       "      <td>...</td>\n",
       "      <td>0</td>\n",
       "      <td>0</td>\n",
       "      <td>0</td>\n",
       "      <td>0</td>\n",
       "      <td>0</td>\n",
       "      <td>0</td>\n",
       "      <td>0</td>\n",
       "      <td>1</td>\n",
       "      <td>0</td>\n",
       "      <td>0</td>\n",
       "    </tr>\n",
       "    <tr>\n",
       "      <th>4</th>\n",
       "      <td>'Breaker' Morant</td>\n",
       "      <td>In Pretoria, South Africa, in 1902, Major Char...</td>\n",
       "      <td>murder, anti war, violence, flashback, tragedy...</td>\n",
       "      <td>train</td>\n",
       "      <td>wikipedia</td>\n",
       "      <td>1</td>\n",
       "      <td>6</td>\n",
       "      <td>1694</td>\n",
       "      <td>140</td>\n",
       "      <td>pretoria south africa major charl bolton rod m...</td>\n",
       "      <td>...</td>\n",
       "      <td>0</td>\n",
       "      <td>0</td>\n",
       "      <td>0</td>\n",
       "      <td>0</td>\n",
       "      <td>0</td>\n",
       "      <td>0</td>\n",
       "      <td>1</td>\n",
       "      <td>1</td>\n",
       "      <td>0</td>\n",
       "      <td>0</td>\n",
       "    </tr>\n",
       "  </tbody>\n",
       "</table>\n",
       "<p>5 rows × 81 columns</p>\n",
       "</div>"
      ],
      "text/plain": [
       "              title                                      plot_synopsis  \\\n",
       "0                 $  Set in Hamburg, West Germany, several criminal...   \n",
       "1           $windle  A 6th grader named Griffin Bing decides to gat...   \n",
       "2               '71  Gary Hook, a new recruit to the British Army, ...   \n",
       "3       'A' gai wak  Sergeant Dragon Ma (Jackie Chan) is part of th...   \n",
       "4  'Breaker' Morant  In Pretoria, South Africa, in 1902, Major Char...   \n",
       "\n",
       "                                                tags  split synopsis_source  \\\n",
       "0                                             murder   test            imdb   \n",
       "1                                          flashback  train       wikipedia   \n",
       "2            suspenseful, neo noir, murder, violence  train       wikipedia   \n",
       "3                                     cult, violence  train       wikipedia   \n",
       "4  murder, anti war, violence, flashback, tragedy...  train       wikipedia   \n",
       "\n",
       "   cnt_dup  tag_count  synopsis_count  synopsis_sent_count  \\\n",
       "0        1          1             648                   26   \n",
       "1        1          1             353                   14   \n",
       "2        1          4             699                   39   \n",
       "3        1          2             665                   41   \n",
       "4        1          6            1694                  140   \n",
       "\n",
       "                                     CleanedSynopsis  ...  sentimental  \\\n",
       "0  set hamburg west germani sever crimin take adv...  ...            0   \n",
       "1  grader name griffin bing decid gather entir gr...  ...            0   \n",
       "2  gari hook new recruit british armi take leav m...  ...            0   \n",
       "3  sergeant dragon jacki chan part hong kong mari...  ...            0   \n",
       "4  pretoria south africa major charl bolton rod m...  ...            0   \n",
       "\n",
       "   storytelling  stupid  suicidal  suspenseful  thought-provoking  tragedy  \\\n",
       "0             0       0         0            0                  0        0   \n",
       "1             0       0         0            0                  0        0   \n",
       "2             0       0         0            1                  0        0   \n",
       "3             0       0         0            0                  0        0   \n",
       "4             0       0         0            0                  0        1   \n",
       "\n",
       "   violence  western  whimsical  \n",
       "0         0        0          0  \n",
       "1         0        0          0  \n",
       "2         1        0          0  \n",
       "3         1        0          0  \n",
       "4         1        0          0  \n",
       "\n",
       "[5 rows x 81 columns]"
      ]
     },
     "execution_count": 2,
     "metadata": {},
     "output_type": "execute_result"
    }
   ],
   "source": [
    "data_with_all_tags = pd.read_csv(\"data_with_all_tags.csv\")\n",
    "data_with_all_tags.head()"
   ]
  },
  {
   "cell_type": "code",
   "execution_count": 3,
   "metadata": {
    "colab": {},
    "colab_type": "code",
    "id": "3o172YDrDCo1"
   },
   "outputs": [],
   "source": [
    "conn = sqlite3.connect('data.db')\n",
    "data_with_all_tags.to_sql('data', conn, if_exists='replace', index=False)\n",
    "train = pd.read_sql(\"Select * From data where split = 'train' OR split='val'\",conn)\n",
    "test =  pd.read_sql(\"Select * From data where split = 'test'\",conn)\n",
    "conn.close()"
   ]
  },
  {
   "cell_type": "code",
   "execution_count": 4,
   "metadata": {
    "colab": {},
    "colab_type": "code",
    "id": "Z-8mYwDiDCo4"
   },
   "outputs": [],
   "source": [
    "X_train = train[\"CleanedSynopsis\"]\n",
    "y_train= train[\"tags\"]\n",
    "\n",
    "X_test = test[\"CleanedSynopsis\"]\n",
    "y_test= test[\"tags\"]"
   ]
  },
  {
   "cell_type": "code",
   "execution_count": 5,
   "metadata": {
    "colab": {},
    "colab_type": "code",
    "id": "mA72XxZGDCo7"
   },
   "outputs": [],
   "source": [
    "def tokenize(x):\n",
    "    x=x.split(',')\n",
    "    tags=[i.strip() for i in x] #Some tags contains whitespaces before them, so we need to strip them\n",
    "    return tags\n",
    "\n",
    "cnt_vectorizer = CountVectorizer(tokenizer = tokenize, max_features=5, binary='true').fit(y_train)\n",
    "y_train_multilabel = cnt_vectorizer.transform(y_train)\n",
    "y_test_multilabel = cnt_vectorizer.transform(y_test)"
   ]
  },
  {
   "cell_type": "markdown",
   "metadata": {
    "colab_type": "text",
    "id": "hBHwBf3fDCo_"
   },
   "source": [
    "<h1> 1. TfidfVectorizer with 1 grams: </h1>"
   ]
  },
  {
   "cell_type": "code",
   "execution_count": 6,
   "metadata": {
    "colab": {
     "base_uri": "https://localhost:8080/",
     "height": 51
    },
    "colab_type": "code",
    "id": "ajLkcne3DCpA",
    "outputId": "b7782561-76f3-45f8-9f29-1dad57863428"
   },
   "outputs": [
    {
     "name": "stdout",
     "output_type": "stream",
     "text": [
      "Dimensions of train data X: (10989, 657) Y : (10989, 5)\n",
      "Dimensions of test data X: (2768, 657) Y: (2768, 5)\n"
     ]
    }
   ],
   "source": [
    "tf_vectorizer = TfidfVectorizer(min_df=0.09, tokenizer = lambda x: x.split(\" \"), ngram_range=(1,1))\n",
    "\n",
    "X_train_multilabel = tf_vectorizer.fit_transform(X_train)\n",
    "X_test_multilabel = tf_vectorizer.transform(X_test)\n",
    "\n",
    "print(\"Dimensions of train data X:\",X_train_multilabel.shape, \"Y :\",y_train_multilabel.shape)\n",
    "print(\"Dimensions of test data X:\",X_test_multilabel.shape,\"Y:\",y_test_multilabel.shape)"
   ]
  },
  {
   "cell_type": "markdown",
   "metadata": {
    "colab_type": "text",
    "id": "k7frifl2DCpD"
   },
   "source": [
    "<h2> 1.1 OneVsRestClassifier + MultinomialNB:</h2>"
   ]
  },
  {
   "cell_type": "code",
   "execution_count": 7,
   "metadata": {
    "colab": {
     "base_uri": "https://localhost:8080/",
     "height": 68
    },
    "colab_type": "code",
    "id": "3lA2UpMRDCpE",
    "outputId": "1c40cc6c-2555-4459-f835-7c799471554d"
   },
   "outputs": [
    {
     "data": {
      "text/plain": [
       "OneVsRestClassifier(estimator=MultinomialNB(class_prior=[0.5, 0.5]))"
      ]
     },
     "execution_count": 7,
     "metadata": {},
     "output_type": "execute_result"
    }
   ],
   "source": [
    "mb = MultinomialNB(class_prior = [0.5, 0.5])\n",
    "\n",
    "clf = OneVsRestClassifier(mb)\n",
    "clf.fit(X_train_multilabel, y_train_multilabel)"
   ]
  },
  {
   "cell_type": "code",
   "execution_count": 8,
   "metadata": {
    "colab": {
     "base_uri": "https://localhost:8080/",
     "height": 34
    },
    "colab_type": "code",
    "id": "bX4YUgBXDCpH",
    "outputId": "6c41cc9a-3754-49c1-e6e5-7ed59f092a9c"
   },
   "outputs": [
    {
     "name": "stdout",
     "output_type": "stream",
     "text": [
      "precision1: 0.4110, recall1: 0.6757, F1-measure: 0.5111\n"
     ]
    }
   ],
   "source": [
    "prediction1 = clf.predict(X_test_multilabel)\n",
    "\n",
    "precision1 = precision_score(y_test_multilabel, prediction1, average='micro')\n",
    "\n",
    "recall1 = recall_score(y_test_multilabel, prediction1, average='micro')\n",
    "\n",
    "f1_score1 = 2*((precision1 * recall1)/(precision1 + recall1))\n",
    "\n",
    "print(\"precision1: {:.4f}, recall1: {:.4f}, F1-measure: {:.4f}\".format(precision1, recall1, f1_score1))"
   ]
  },
  {
   "cell_type": "code",
   "execution_count": 9,
   "metadata": {
    "colab": {
     "base_uri": "https://localhost:8080/",
     "height": 357
    },
    "colab_type": "code",
    "id": "Q_MnZFmjDCpK",
    "outputId": "3be97fb8-910e-44e1-93a0-a3a1efe43775"
   },
   "outputs": [
    {
     "name": "stdout",
     "output_type": "stream",
     "text": [
      "Movie:  White Tiger\n",
      "Actual genre:  murder\n",
      "Predicted tag:  ['violence'] \n",
      "\n",
      "Movie:  The Upturned Glass\n",
      "Actual genre:  revenge, murder\n",
      "Predicted tag:  ['flashback' 'murder'] \n",
      "\n",
      "Movie:  Séraphine\n",
      "Actual genre:  depressing\n",
      "Predicted tag:  ['romantic'] \n",
      "\n",
      "Movie:  Two Weeks Notice\n",
      "Actual genre:  romantic, entertaining\n",
      "Predicted tag:  ['romantic'] \n",
      "\n",
      "Movie:  Ghilli\n",
      "Actual genre:  murder\n",
      "Predicted tag:  ['romantic'] \n",
      "\n"
     ]
    }
   ],
   "source": [
    "for i in range(5):\n",
    "    k = test.sample(1).index[0]\n",
    "    print(\"Movie: \", test['title'][k]) \n",
    "    print(\"Actual genre: \",y_test[k])\n",
    "    print(\"Predicted tag: \", cnt_vectorizer.inverse_transform(prediction1[k])[0],\"\\n\")"
   ]
  },
  {
   "cell_type": "markdown",
   "metadata": {
    "colab_type": "text",
    "id": "jk6_Pn63DCpN"
   },
   "source": [
    "<h2> 1.2 OneVsRestClassifier + SGDClassifier with LOG Loss:</h2>"
   ]
  },
  {
   "cell_type": "code",
   "execution_count": 10,
   "metadata": {
    "colab": {
     "base_uri": "https://localhost:8080/",
     "height": 238
    },
    "colab_type": "code",
    "id": "IzLjlJ8UDCpN",
    "outputId": "727f9f12-499f-4ffa-db89-32db3f15e477"
   },
   "outputs": [
    {
     "data": {
      "text/plain": [
       "OneVsRestClassifier(estimator=SGDClassifier(class_weight='balanced',\n",
       "                                            loss='log'))"
      ]
     },
     "execution_count": 10,
     "metadata": {},
     "output_type": "execute_result"
    }
   ],
   "source": [
    "sgl = SGDClassifier(loss='log', class_weight='balanced')\n",
    "\n",
    "clf = OneVsRestClassifier(sgl)\n",
    "clf.fit(X_train_multilabel, y_train_multilabel)"
   ]
  },
  {
   "cell_type": "code",
   "execution_count": 11,
   "metadata": {
    "colab": {
     "base_uri": "https://localhost:8080/",
     "height": 34
    },
    "colab_type": "code",
    "id": "bke850EtDCpR",
    "outputId": "f3f9cc97-eb6b-4100-c6cb-d933022cf3ec"
   },
   "outputs": [
    {
     "name": "stdout",
     "output_type": "stream",
     "text": [
      "precision2: 0.4478, recall2: 0.6760, F1-measure: 0.5387\n"
     ]
    }
   ],
   "source": [
    "prediction2 = clf.predict(X_test_multilabel)\n",
    "\n",
    "precision2 = precision_score(y_test_multilabel, prediction2, average='micro')\n",
    "\n",
    "recall2 = recall_score(y_test_multilabel, prediction2, average='micro')\n",
    "\n",
    "f1_score2 = 2*((precision2 * recall2)/(precision2 + recall2))\n",
    "\n",
    "print(\"precision2: {:.4f}, recall2: {:.4f}, F1-measure: {:.4f}\".format(precision2, recall2, f1_score2))"
   ]
  },
  {
   "cell_type": "code",
   "execution_count": 12,
   "metadata": {
    "colab": {
     "base_uri": "https://localhost:8080/",
     "height": 357
    },
    "colab_type": "code",
    "id": "EFcM7flcDCpU",
    "outputId": "e430b569-5d75-40b9-c20e-bf912b353016"
   },
   "outputs": [
    {
     "name": "stdout",
     "output_type": "stream",
     "text": [
      "Movie:  La vieille dame et les pigeons\n",
      "Actual genre:  insanity, psychedelic, comedy\n",
      "Predicted tag:  ['cult' 'violence'] \n",
      "\n",
      "Movie:  Gunsight Ridge\n",
      "Actual genre:  violence, murder\n",
      "Predicted tag:  ['murder' 'violence'] \n",
      "\n",
      "Movie:  Exodus: Gods and Kings\n",
      "Actual genre:  comedy, cruelty, murder, violence, psychedelic, revenge\n",
      "Predicted tag:  ['flashback' 'murder' 'violence'] \n",
      "\n",
      "Movie:  Tammy and the Bachelor\n",
      "Actual genre:  romantic, storytelling\n",
      "Predicted tag:  ['romantic'] \n",
      "\n",
      "Movie:  Earth Angel\n",
      "Actual genre:  romantic\n",
      "Predicted tag:  ['flashback' 'romantic'] \n",
      "\n"
     ]
    }
   ],
   "source": [
    "for i in range(5):\n",
    "    k = test.sample(1).index[0]\n",
    "    print(\"Movie: \", test['title'][k]) \n",
    "    print(\"Actual genre: \",y_test[k])\n",
    "    print(\"Predicted tag: \", cnt_vectorizer.inverse_transform(prediction2[k])[0],\"\\n\")"
   ]
  },
  {
   "cell_type": "markdown",
   "metadata": {
    "colab_type": "text",
    "id": "sZJNmTiyDCpX"
   },
   "source": [
    "<h2> 1.3 OneVsRestClassifier + SGDClassifier with Hinge Loss:</h2>"
   ]
  },
  {
   "cell_type": "code",
   "execution_count": 13,
   "metadata": {
    "colab": {
     "base_uri": "https://localhost:8080/",
     "height": 238
    },
    "colab_type": "code",
    "id": "Y7eDG5BVDCpY",
    "outputId": "cfd4bb90-6db0-496b-a85d-a65fc73bda7f"
   },
   "outputs": [
    {
     "data": {
      "text/plain": [
       "OneVsRestClassifier(estimator=SGDClassifier(class_weight='balanced'))"
      ]
     },
     "execution_count": 13,
     "metadata": {},
     "output_type": "execute_result"
    }
   ],
   "source": [
    "sgh = SGDClassifier(loss='hinge', class_weight='balanced')\n",
    "\n",
    "clf = OneVsRestClassifier(sgh)\n",
    "clf.fit(X_train_multilabel, y_train_multilabel)"
   ]
  },
  {
   "cell_type": "code",
   "execution_count": 14,
   "metadata": {
    "colab": {
     "base_uri": "https://localhost:8080/",
     "height": 34
    },
    "colab_type": "code",
    "id": "-L57YKxmDCpb",
    "outputId": "7defeedb-ef4e-4d40-ac78-73dd43049c7f"
   },
   "outputs": [
    {
     "name": "stdout",
     "output_type": "stream",
     "text": [
      "precision3: 0.4352, recall3: 0.6737, F1-measure: 0.5288\n"
     ]
    }
   ],
   "source": [
    "prediction3 = clf.predict(X_test_multilabel)\n",
    "\n",
    "precision3 = precision_score(y_test_multilabel, prediction3, average='micro')\n",
    "\n",
    "recall3 = recall_score(y_test_multilabel, prediction3, average='micro')\n",
    "\n",
    "f1_score3 = 2*((precision3 * recall3)/(precision3 + recall3))\n",
    "\n",
    "print(\"precision3: {:.4f}, recall3: {:.4f}, F1-measure: {:.4f}\".format(precision3, recall3, f1_score3))"
   ]
  },
  {
   "cell_type": "code",
   "execution_count": 15,
   "metadata": {
    "colab": {
     "base_uri": "https://localhost:8080/",
     "height": 357
    },
    "colab_type": "code",
    "id": "xYyKwo8GDCpd",
    "outputId": "5d2d7a53-d1f3-4c2a-9a1d-33fdff285121"
   },
   "outputs": [
    {
     "name": "stdout",
     "output_type": "stream",
     "text": [
      "Movie:  Kill List\n",
      "Actual genre:  mystery, murder, cult, horror, violence, flashback\n",
      "Predicted tag:  ['cult' 'flashback' 'murder' 'violence'] \n",
      "\n",
      "Movie:  Outrage\n",
      "Actual genre:  romantic, psychological, violence, queer\n",
      "Predicted tag:  ['murder'] \n",
      "\n",
      "Movie:  Kenka erejî\n",
      "Actual genre:  satire, comic\n",
      "Predicted tag:  ['romantic'] \n",
      "\n",
      "Movie:  Aerial Gunner\n",
      "Actual genre:  romantic, flashback\n",
      "Predicted tag:  ['murder' 'romantic' 'violence'] \n",
      "\n",
      "Movie:  The Possession of Joel Delaney\n",
      "Actual genre:  violence, murder, flashback\n",
      "Predicted tag:  ['cult' 'flashback' 'murder' 'violence'] \n",
      "\n"
     ]
    }
   ],
   "source": [
    "for i in range(5):\n",
    "    k = test.sample(1).index[0]\n",
    "    print(\"Movie: \", test['title'][k]) \n",
    "    print(\"Actual genre: \",y_test[k])\n",
    "    print(\"Predicted tag: \", cnt_vectorizer.inverse_transform(prediction3[k])[0],\"\\n\")"
   ]
  },
  {
   "cell_type": "markdown",
   "metadata": {
    "colab_type": "text",
    "id": "MH_DhkiPDCpg"
   },
   "source": [
    "<h2> 1.4  OneVsRestClassifier + LogisticRegression:</h2>"
   ]
  },
  {
   "cell_type": "code",
   "execution_count": 16,
   "metadata": {
    "colab": {
     "base_uri": "https://localhost:8080/",
     "height": 187
    },
    "colab_type": "code",
    "id": "KtcTdSw-DCpg",
    "outputId": "2ae81491-1994-45b9-89c5-bdba2d1414a8"
   },
   "outputs": [
    {
     "data": {
      "text/plain": [
       "OneVsRestClassifier(estimator=LogisticRegression(class_weight='balanced'))"
      ]
     },
     "execution_count": 16,
     "metadata": {},
     "output_type": "execute_result"
    }
   ],
   "source": [
    "lr = LogisticRegression(class_weight='balanced')\n",
    "\n",
    "clf = OneVsRestClassifier(lr)\n",
    "clf.fit(X_train_multilabel, y_train_multilabel)"
   ]
  },
  {
   "cell_type": "code",
   "execution_count": 17,
   "metadata": {
    "colab": {
     "base_uri": "https://localhost:8080/",
     "height": 34
    },
    "colab_type": "code",
    "id": "1VeATn1iDCpk",
    "outputId": "75381028-cd11-4351-c772-0f1d7dcbba03"
   },
   "outputs": [
    {
     "name": "stdout",
     "output_type": "stream",
     "text": [
      "precision4: 0.4469, recall4: 0.6679, F1-measure: 0.5355\n"
     ]
    }
   ],
   "source": [
    "prediction4 = clf.predict(X_test_multilabel)\n",
    "\n",
    "precision4 = precision_score(y_test_multilabel, prediction4, average='micro')\n",
    "\n",
    "recall4 = recall_score(y_test_multilabel, prediction4, average='micro')\n",
    "\n",
    "f1_score4 = 2*((precision4 * recall4)/(precision4 + recall4))\n",
    "\n",
    "print(\"precision4: {:.4f}, recall4: {:.4f}, F1-measure: {:.4f}\".format(precision4, recall4, f1_score4))"
   ]
  },
  {
   "cell_type": "code",
   "execution_count": 18,
   "metadata": {
    "colab": {
     "base_uri": "https://localhost:8080/",
     "height": 357
    },
    "colab_type": "code",
    "id": "0shkxDuJDCpm",
    "outputId": "7bf22ca9-8b54-4be9-effc-4db8b8930e53"
   },
   "outputs": [
    {
     "name": "stdout",
     "output_type": "stream",
     "text": [
      "Movie:  The Creeping Flesh\n",
      "Actual genre:  murder\n",
      "Predicted tag:  ['flashback' 'murder'] \n",
      "\n",
      "Movie:  Wong Fei Hung III: Si wong jaang ba\n",
      "Actual genre:  cult, violence\n",
      "Predicted tag:  ['cult' 'romantic'] \n",
      "\n",
      "Movie:  La cérémonie\n",
      "Actual genre:  pornographic, sadist\n",
      "Predicted tag:  ['flashback' 'romantic'] \n",
      "\n",
      "Movie:  Valmont\n",
      "Actual genre:  tragedy, revenge, murder, romantic\n",
      "Predicted tag:  ['romantic'] \n",
      "\n",
      "Movie:  13 Tzameti\n",
      "Actual genre:  dramatic, revenge, mystery\n",
      "Predicted tag:  ['flashback' 'murder' 'violence'] \n",
      "\n"
     ]
    }
   ],
   "source": [
    "for i in range(5):\n",
    "    k = test.sample(1).index[0]\n",
    "    print(\"Movie: \", test['title'][k]) \n",
    "    print(\"Actual genre: \",y_test[k])\n",
    "    print(\"Predicted tag: \", cnt_vectorizer.inverse_transform(prediction4[k])[0],\"\\n\")"
   ]
  },
  {
   "cell_type": "markdown",
   "metadata": {
    "colab_type": "text",
    "id": "TItC30q6DCpp"
   },
   "source": [
    "<h1>2. TfidfVectorizer with (1 - 2 Grams):<?h1>"
   ]
  },
  {
   "cell_type": "code",
   "execution_count": 19,
   "metadata": {
    "colab": {
     "base_uri": "https://localhost:8080/",
     "height": 51
    },
    "colab_type": "code",
    "id": "LBE6SAMJDCpp",
    "outputId": "6e93d908-1b60-4a29-95c9-74d2fae4c3cf"
   },
   "outputs": [
    {
     "name": "stdout",
     "output_type": "stream",
     "text": [
      "Dimensions of train data X: (10989, 666) Y : (10989, 5)\n",
      "Dimensions of test data X: (2768, 666) Y: (2768, 5)\n"
     ]
    }
   ],
   "source": [
    "tf_vectorizer = TfidfVectorizer(min_df=0.09, tokenizer = lambda x: x.split(\" \"), ngram_range=(1,2))\n",
    "\n",
    "X_train_multilabel = tf_vectorizer.fit_transform(X_train)\n",
    "X_test_multilabel = tf_vectorizer.transform(X_test)\n",
    "\n",
    "print(\"Dimensions of train data X:\",X_train_multilabel.shape, \"Y :\",y_train_multilabel.shape)\n",
    "print(\"Dimensions of test data X:\",X_test_multilabel.shape,\"Y:\",y_test_multilabel.shape)"
   ]
  },
  {
   "cell_type": "markdown",
   "metadata": {
    "colab_type": "text",
    "id": "MgHAsJ_SDCpr"
   },
   "source": [
    "<H2> 2.1 OneVsRestClassifier + MultinomialNB :</H2>"
   ]
  },
  {
   "cell_type": "code",
   "execution_count": 20,
   "metadata": {
    "colab": {
     "base_uri": "https://localhost:8080/",
     "height": 68
    },
    "colab_type": "code",
    "id": "u_H7hHSEDCps",
    "outputId": "ae1f458e-591e-42a6-8669-8902dbb7364c"
   },
   "outputs": [
    {
     "data": {
      "text/plain": [
       "OneVsRestClassifier(estimator=MultinomialNB(class_prior=[0.5, 0.5]))"
      ]
     },
     "execution_count": 20,
     "metadata": {},
     "output_type": "execute_result"
    }
   ],
   "source": [
    "mb = MultinomialNB(class_prior = [0.5, 0.5])\n",
    "\n",
    "clf = OneVsRestClassifier(mb)\n",
    "clf.fit(X_train_multilabel, y_train_multilabel)"
   ]
  },
  {
   "cell_type": "code",
   "execution_count": 21,
   "metadata": {
    "colab": {
     "base_uri": "https://localhost:8080/",
     "height": 34
    },
    "colab_type": "code",
    "id": "rR_FdRbZDCpu",
    "outputId": "f59d81d4-a9f8-401f-8b07-e95e712f4464"
   },
   "outputs": [
    {
     "name": "stdout",
     "output_type": "stream",
     "text": [
      "precision5: 0.4120, recall5: 0.6762, F1-measure: 0.5120\n"
     ]
    }
   ],
   "source": [
    "prediction5 = clf.predict(X_test_multilabel)\n",
    "\n",
    "precision5 = precision_score(y_test_multilabel, prediction5, average='micro')\n",
    "\n",
    "recall5 = recall_score(y_test_multilabel, prediction5, average='micro')\n",
    "\n",
    "f1_score5 = 2*((precision5 * recall5)/(precision5 + recall5))\n",
    "\n",
    "print(\"precision5: {:.4f}, recall5: {:.4f}, F1-measure: {:.4f}\".format(precision5, recall5, f1_score5))"
   ]
  },
  {
   "cell_type": "code",
   "execution_count": 22,
   "metadata": {
    "colab": {
     "base_uri": "https://localhost:8080/",
     "height": 357
    },
    "colab_type": "code",
    "id": "0nYCZTnyDCpx",
    "outputId": "1e64ca74-79db-458b-b057-333ef5a28967"
   },
   "outputs": [
    {
     "name": "stdout",
     "output_type": "stream",
     "text": [
      "Movie:  Der bewegte Mann\n",
      "Actual genre:  comedy\n",
      "Predicted tag:  ['romantic'] \n",
      "\n",
      "Movie:  Keith Lemon: The Film\n",
      "Actual genre:  comedy\n",
      "Predicted tag:  ['romantic'] \n",
      "\n",
      "Movie:  Emma\n",
      "Actual genre:  romantic, satire\n",
      "Predicted tag:  ['romantic'] \n",
      "\n",
      "Movie:  Enemy of the State\n",
      "Actual genre:  comedy, mystery, neo noir, murder, cult, revenge, violence, humor, suspenseful\n",
      "Predicted tag:  ['cult' 'flashback' 'murder' 'violence'] \n",
      "\n",
      "Movie:  Desperate Remedies\n",
      "Actual genre:  comedy, gothic, murder, cult, intrigue, violence, melodrama\n",
      "Predicted tag:  ['romantic'] \n",
      "\n"
     ]
    }
   ],
   "source": [
    "for i in range(5):\n",
    "    k = test.sample(1).index[0]\n",
    "    print(\"Movie: \", test['title'][k]) \n",
    "    print(\"Actual genre: \",y_test[k])\n",
    "    print(\"Predicted tag: \", cnt_vectorizer.inverse_transform(prediction5[k])[0],\"\\n\")"
   ]
  },
  {
   "cell_type": "markdown",
   "metadata": {
    "colab_type": "text",
    "id": "OGAQgFJtDCpz"
   },
   "source": [
    "<h2> 2.2 OneVsRestClassifier + SGDClassifier with LOG Loss :</h2>"
   ]
  },
  {
   "cell_type": "code",
   "execution_count": 23,
   "metadata": {
    "colab": {
     "base_uri": "https://localhost:8080/",
     "height": 238
    },
    "colab_type": "code",
    "id": "tP0jIPhODCp0",
    "outputId": "9f931557-ea9f-41ef-de56-10d8d834c8b0"
   },
   "outputs": [
    {
     "data": {
      "text/plain": [
       "OneVsRestClassifier(estimator=SGDClassifier(class_weight='balanced',\n",
       "                                            loss='log'))"
      ]
     },
     "execution_count": 23,
     "metadata": {},
     "output_type": "execute_result"
    }
   ],
   "source": [
    "sgl = SGDClassifier(loss='log', class_weight='balanced')\n",
    "\n",
    "clf = OneVsRestClassifier(sgl)\n",
    "clf.fit(X_train_multilabel, y_train_multilabel)"
   ]
  },
  {
   "cell_type": "code",
   "execution_count": 24,
   "metadata": {
    "colab": {
     "base_uri": "https://localhost:8080/",
     "height": 34
    },
    "colab_type": "code",
    "id": "8Omzrwn_DCp3",
    "outputId": "440d0b7b-4cb8-4db1-b19f-fddf4d67c7f0"
   },
   "outputs": [
    {
     "name": "stdout",
     "output_type": "stream",
     "text": [
      "precision6: 0.4549, recall6: 0.6603, F1-measure: 0.5387\n"
     ]
    }
   ],
   "source": [
    "prediction6 = clf.predict(X_test_multilabel)\n",
    "\n",
    "precision6 = precision_score(y_test_multilabel, prediction6, average='micro')\n",
    "\n",
    "recall6 = recall_score(y_test_multilabel, prediction6, average='micro')\n",
    "\n",
    "f1_score6 = 2*((precision6 * recall6)/(precision6 + recall6))\n",
    "\n",
    "print(\"precision6: {:.4f}, recall6: {:.4f}, F1-measure: {:.4f}\".format(precision6, recall6, f1_score6))"
   ]
  },
  {
   "cell_type": "code",
   "execution_count": 25,
   "metadata": {
    "colab": {
     "base_uri": "https://localhost:8080/",
     "height": 377
    },
    "colab_type": "code",
    "id": "pM-8DSt8DCp7",
    "outputId": "318c2569-1c92-4234-f2cf-027cca6f5630"
   },
   "outputs": [
    {
     "name": "stdout",
     "output_type": "stream",
     "text": [
      "Movie:  Easy Rider\n",
      "Actual genre:  comedy, avant garde, dark, murder, realism, cult, atmospheric, psychedelic, humor, satire\n",
      "Predicted tag:  ['cult'] \n",
      "\n",
      "Movie:  Better Living Through Chemistry\n",
      "Actual genre:  entertaining, clever\n",
      "Predicted tag:  ['romantic'] \n",
      "\n",
      "Movie:  47 Ronin\n",
      "Actual genre:  fantasy, murder, paranormal, violence, historical fiction, flashback, psychedelic, romantic, tragedy, revenge\n",
      "Predicted tag:  ['cult' 'flashback' 'violence'] \n",
      "\n",
      "Movie:  0.45\n",
      "Actual genre:  murder, flashback\n",
      "Predicted tag:  ['murder' 'romantic'] \n",
      "\n",
      "Movie:  The Sugarland Express\n",
      "Actual genre:  violence, neo noir\n",
      "Predicted tag:  ['cult' 'flashback' 'murder'] \n",
      "\n"
     ]
    }
   ],
   "source": [
    "for i in range(5):\n",
    "    k = test.sample(1).index[0]\n",
    "    print(\"Movie: \", test['title'][k]) \n",
    "    print(\"Actual genre: \",y_test[k])\n",
    "    print(\"Predicted tag: \", cnt_vectorizer.inverse_transform(prediction6[k])[0],\"\\n\")"
   ]
  },
  {
   "cell_type": "markdown",
   "metadata": {
    "colab_type": "text",
    "id": "H1i_MkygDCp9"
   },
   "source": [
    "<h2> 2.3 OneVsRestClassifier + SGDClassifier with HINGE Loss : </h2>"
   ]
  },
  {
   "cell_type": "code",
   "execution_count": 26,
   "metadata": {
    "colab": {
     "base_uri": "https://localhost:8080/",
     "height": 238
    },
    "colab_type": "code",
    "id": "h73x2cj0DCp9",
    "outputId": "652ea035-81a1-4026-cf43-1459c6fdaf6d"
   },
   "outputs": [
    {
     "data": {
      "text/plain": [
       "OneVsRestClassifier(estimator=SGDClassifier(class_weight='balanced'))"
      ]
     },
     "execution_count": 26,
     "metadata": {},
     "output_type": "execute_result"
    }
   ],
   "source": [
    "sgh = SGDClassifier(loss='hinge', class_weight='balanced')\n",
    "\n",
    "clf = OneVsRestClassifier(sgh)\n",
    "clf.fit(X_train_multilabel, y_train_multilabel)"
   ]
  },
  {
   "cell_type": "code",
   "execution_count": 27,
   "metadata": {
    "colab": {
     "base_uri": "https://localhost:8080/",
     "height": 34
    },
    "colab_type": "code",
    "id": "a864hwsHDCqA",
    "outputId": "653516f7-de5c-4430-c627-02d1b3da2acc"
   },
   "outputs": [
    {
     "name": "stdout",
     "output_type": "stream",
     "text": [
      "precision7: 0.4415, recall7: 0.6723, F1-measure: 0.5330\n"
     ]
    }
   ],
   "source": [
    "prediction7 = clf.predict(X_test_multilabel)\n",
    "\n",
    "precision7 = precision_score(y_test_multilabel, prediction7, average='micro')\n",
    "\n",
    "recall7 = recall_score(y_test_multilabel, prediction7, average='micro')\n",
    "\n",
    "f1_score7 = 2*((precision7 * recall7)/(precision7 + recall7))\n",
    "\n",
    "print(\"precision7: {:.4f}, recall7: {:.4f}, F1-measure: {:.4f}\".format(precision7, recall7, f1_score7))"
   ]
  },
  {
   "cell_type": "code",
   "execution_count": 28,
   "metadata": {
    "colab": {
     "base_uri": "https://localhost:8080/",
     "height": 357
    },
    "colab_type": "code",
    "id": "h6F5IYHZDCqD",
    "outputId": "e5e545a2-79f9-4289-9a91-5c019da634ee"
   },
   "outputs": [
    {
     "name": "stdout",
     "output_type": "stream",
     "text": [
      "Movie:  Next\n",
      "Actual genre:  paranormal, plot twist, action, murder\n",
      "Predicted tag:  ['cult' 'violence'] \n",
      "\n",
      "Movie:  Mimi wo sumaseba\n",
      "Actual genre:  inspiring, psychedelic, romantic\n",
      "Predicted tag:  ['flashback' 'romantic'] \n",
      "\n",
      "Movie:  Devil's Due\n",
      "Actual genre:  paranormal, dark, cult, murder\n",
      "Predicted tag:  ['cult' 'murder'] \n",
      "\n",
      "Movie:  Airman\n",
      "Actual genre:  murder\n",
      "Predicted tag:  ['romantic'] \n",
      "\n",
      "Movie:  Labor Pains\n",
      "Actual genre:  romantic\n",
      "Predicted tag:  ['romantic'] \n",
      "\n"
     ]
    }
   ],
   "source": [
    "for i in range(5):\n",
    "    k = test.sample(1).index[0]\n",
    "    print(\"Movie: \", test['title'][k]) \n",
    "    print(\"Actual genre: \",y_test[k])\n",
    "    print(\"Predicted tag: \", cnt_vectorizer.inverse_transform(prediction7[k])[0],\"\\n\")"
   ]
  },
  {
   "cell_type": "markdown",
   "metadata": {
    "colab_type": "text",
    "id": "g7Yzn-YMDCqG"
   },
   "source": [
    "<h2> 2.4 OneVsRestClassifier + LogisticRegression:</h2>"
   ]
  },
  {
   "cell_type": "code",
   "execution_count": 29,
   "metadata": {
    "colab": {
     "base_uri": "https://localhost:8080/",
     "height": 187
    },
    "colab_type": "code",
    "id": "LCecqbPYDCqG",
    "outputId": "d5690dc0-628a-4dbe-f480-93702444da17"
   },
   "outputs": [
    {
     "data": {
      "text/plain": [
       "OneVsRestClassifier(estimator=LogisticRegression(class_weight='balanced'))"
      ]
     },
     "execution_count": 29,
     "metadata": {},
     "output_type": "execute_result"
    }
   ],
   "source": [
    "lr = LogisticRegression(class_weight='balanced')\n",
    "\n",
    "clf = OneVsRestClassifier(lr)\n",
    "clf.fit(X_train_multilabel, y_train_multilabel)"
   ]
  },
  {
   "cell_type": "code",
   "execution_count": 30,
   "metadata": {
    "colab": {
     "base_uri": "https://localhost:8080/",
     "height": 34
    },
    "colab_type": "code",
    "id": "j86V-6BaDCqJ",
    "outputId": "e5e33688-09bd-468e-8be9-2f848bcab6f7"
   },
   "outputs": [
    {
     "name": "stdout",
     "output_type": "stream",
     "text": [
      "precision8: 0.4469, recall8: 0.6676, F1-measure: 0.5354\n"
     ]
    }
   ],
   "source": [
    "prediction8 = clf.predict(X_test_multilabel)\n",
    "\n",
    "precision8 = precision_score(y_test_multilabel, prediction8, average='micro')\n",
    "\n",
    "recall8 = recall_score(y_test_multilabel, prediction8, average='micro')\n",
    "\n",
    "f1_score8 = 2*((precision8 * recall8)/(precision8 + recall8))\n",
    "\n",
    "print(\"precision8: {:.4f}, recall8: {:.4f}, F1-measure: {:.4f}\".format(precision8, recall8, f1_score8))"
   ]
  },
  {
   "cell_type": "code",
   "execution_count": 31,
   "metadata": {
    "colab": {
     "base_uri": "https://localhost:8080/",
     "height": 357
    },
    "colab_type": "code",
    "id": "WXyBI8_2DCqL",
    "outputId": "15addd98-522a-4c25-a332-d80ae8339643"
   },
   "outputs": [
    {
     "name": "stdout",
     "output_type": "stream",
     "text": [
      "Movie:  The East\n",
      "Actual genre:  suspenseful, neo noir, violence, tragedy, revenge, sentimental\n",
      "Predicted tag:  ['murder'] \n",
      "\n",
      "Movie:  When the Wind Blows\n",
      "Actual genre:  tragedy, comedy, storytelling, flashback\n",
      "Predicted tag:  [] \n",
      "\n",
      "Movie:  Codebreaker\n",
      "Actual genre:  tragedy\n",
      "Predicted tag:  ['flashback'] \n",
      "\n",
      "Movie:  Constantine\n",
      "Actual genre:  comedy, fantasy, gothic, murder, paranormal, cult, flashback, good versus evil, psychedelic, storytelling\n",
      "Predicted tag:  ['cult' 'flashback' 'violence'] \n",
      "\n",
      "Movie:  Tale of a Vampire\n",
      "Actual genre:  violence\n",
      "Predicted tag:  ['romantic'] \n",
      "\n"
     ]
    }
   ],
   "source": [
    "for i in range(5):\n",
    "    k = test.sample(1).index[0]\n",
    "    print(\"Movie: \", test['title'][k]) \n",
    "    print(\"Actual genre: \",y_test[k])\n",
    "    print(\"Predicted tag: \", cnt_vectorizer.inverse_transform(prediction8[k])[0],\"\\n\")"
   ]
  },
  {
   "cell_type": "code",
   "execution_count": null,
   "metadata": {
    "colab": {},
    "colab_type": "code",
    "id": "0MqjNeQi7XG_"
   },
   "outputs": [],
   "source": []
  },
  {
   "cell_type": "markdown",
   "metadata": {
    "colab_type": "text",
    "id": "w1_LLwYoDCqO"
   },
   "source": [
    "<h1>3. TfidfVectorizer with (1 - 3 Grams):<?h1>"
   ]
  },
  {
   "cell_type": "code",
   "execution_count": 32,
   "metadata": {
    "colab": {
     "base_uri": "https://localhost:8080/",
     "height": 51
    },
    "colab_type": "code",
    "id": "T23u8WsoDCqO",
    "outputId": "2ee6601e-da98-4c73-a461-10b4681ae590"
   },
   "outputs": [
    {
     "name": "stdout",
     "output_type": "stream",
     "text": [
      "Dimensions of train data X: (10989, 666) Y : (10989, 5)\n",
      "Dimensions of test data X: (2768, 666) Y: (2768, 5)\n"
     ]
    }
   ],
   "source": [
    "tf_vectorizer = TfidfVectorizer(min_df=0.09, tokenizer = lambda x: x.split(\" \"), ngram_range=(1,3))\n",
    "\n",
    "X_train_multilabel = tf_vectorizer.fit_transform(X_train)\n",
    "X_test_multilabel = tf_vectorizer.transform(X_test)\n",
    "\n",
    "print(\"Dimensions of train data X:\",X_train_multilabel.shape, \"Y :\",y_train_multilabel.shape)\n",
    "print(\"Dimensions of test data X:\",X_test_multilabel.shape,\"Y:\",y_test_multilabel.shape)"
   ]
  },
  {
   "cell_type": "markdown",
   "metadata": {
    "colab_type": "text",
    "id": "NMeRyIKsDCqQ"
   },
   "source": [
    "<H2> 3.1 OneVsRestClassifier + MultinomialNB :</H2>"
   ]
  },
  {
   "cell_type": "code",
   "execution_count": 33,
   "metadata": {
    "colab": {
     "base_uri": "https://localhost:8080/",
     "height": 68
    },
    "colab_type": "code",
    "id": "EffderkGDCqR",
    "outputId": "a872587b-b7be-4b74-9ea5-573afb0f4e76"
   },
   "outputs": [
    {
     "data": {
      "text/plain": [
       "OneVsRestClassifier(estimator=MultinomialNB(class_prior=[0.5, 0.5]))"
      ]
     },
     "execution_count": 33,
     "metadata": {},
     "output_type": "execute_result"
    }
   ],
   "source": [
    "mb = MultinomialNB(class_prior = [0.5, 0.5])\n",
    "\n",
    "clf = OneVsRestClassifier(mb)\n",
    "clf.fit(X_train_multilabel, y_train_multilabel)"
   ]
  },
  {
   "cell_type": "code",
   "execution_count": 34,
   "metadata": {
    "colab": {
     "base_uri": "https://localhost:8080/",
     "height": 34
    },
    "colab_type": "code",
    "id": "_fPj9KgyDCqT",
    "outputId": "9212dc11-ab2c-473b-a564-f3688e06b0f1"
   },
   "outputs": [
    {
     "name": "stdout",
     "output_type": "stream",
     "text": [
      "precision9: 0.4120, recall9: 0.6762, F1-measure: 0.5120\n"
     ]
    }
   ],
   "source": [
    "prediction9 = clf.predict(X_test_multilabel)\n",
    "\n",
    "precision9 = precision_score(y_test_multilabel, prediction9, average='micro')\n",
    "\n",
    "recall9 = recall_score(y_test_multilabel, prediction9, average='micro')\n",
    "\n",
    "f1_score9 = 2*((precision9 * recall9)/(precision9 + recall9))\n",
    "\n",
    "print(\"precision9: {:.4f}, recall9: {:.4f}, F1-measure: {:.4f}\".format(precision9, recall9, f1_score9))"
   ]
  },
  {
   "cell_type": "code",
   "execution_count": 35,
   "metadata": {
    "colab": {
     "base_uri": "https://localhost:8080/",
     "height": 357
    },
    "colab_type": "code",
    "id": "M3Rdu8AKDCqV",
    "outputId": "e90829f4-ff63-4a7f-bba7-66edcc0e3ca4"
   },
   "outputs": [
    {
     "name": "stdout",
     "output_type": "stream",
     "text": [
      "Movie:  Tom Tom Tomcat\n",
      "Actual genre:  psychedelic\n",
      "Predicted tag:  ['cult' 'violence'] \n",
      "\n",
      "Movie:  The Giver\n",
      "Actual genre:  violence, cruelty, murder, flashback\n",
      "Predicted tag:  ['flashback' 'romantic'] \n",
      "\n",
      "Movie:  The Death Kiss\n",
      "Actual genre:  murder\n",
      "Predicted tag:  ['cult' 'flashback' 'murder' 'violence'] \n",
      "\n",
      "Movie:  Shock\n",
      "Actual genre:  romantic\n",
      "Predicted tag:  ['flashback' 'murder'] \n",
      "\n",
      "Movie:  Tinker Bell and the Lost Treasure\n",
      "Actual genre:  fantasy\n",
      "Predicted tag:  ['cult'] \n",
      "\n"
     ]
    }
   ],
   "source": [
    "for i in range(5):\n",
    "    k = test.sample(1).index[0]\n",
    "    print(\"Movie: \", test['title'][k]) \n",
    "    print(\"Actual genre: \",y_test[k])\n",
    "    print(\"Predicted tag: \", cnt_vectorizer.inverse_transform(prediction9[k])[0],\"\\n\")"
   ]
  },
  {
   "cell_type": "markdown",
   "metadata": {
    "colab_type": "text",
    "id": "KmEygrxSDCqY"
   },
   "source": [
    "<H2> 3.2 OneVsRestClassifier + SGDClassifier with LOG Loss :</H2>"
   ]
  },
  {
   "cell_type": "code",
   "execution_count": 36,
   "metadata": {
    "colab": {
     "base_uri": "https://localhost:8080/",
     "height": 238
    },
    "colab_type": "code",
    "id": "dIO98T1tDCqZ",
    "outputId": "8862aa87-7ab8-49de-beaa-488c5a11b2d3"
   },
   "outputs": [
    {
     "data": {
      "text/plain": [
       "OneVsRestClassifier(estimator=SGDClassifier(class_weight='balanced',\n",
       "                                            loss='log'))"
      ]
     },
     "execution_count": 36,
     "metadata": {},
     "output_type": "execute_result"
    }
   ],
   "source": [
    "sgl = SGDClassifier(loss='log', class_weight='balanced')\n",
    "\n",
    "clf = OneVsRestClassifier(sgl)\n",
    "clf.fit(X_train_multilabel, y_train_multilabel)"
   ]
  },
  {
   "cell_type": "code",
   "execution_count": 37,
   "metadata": {
    "colab": {
     "base_uri": "https://localhost:8080/",
     "height": 34
    },
    "colab_type": "code",
    "id": "zsdCC3yXDCqd",
    "outputId": "0dfdc624-7ef4-412d-f497-14e12b1b537b"
   },
   "outputs": [
    {
     "name": "stdout",
     "output_type": "stream",
     "text": [
      "precision10: 0.4438, recall10: 0.6648, F1-measure: 0.5323\n"
     ]
    }
   ],
   "source": [
    "prediction10 = clf.predict(X_test_multilabel)\n",
    "\n",
    "precision10 = precision_score(y_test_multilabel, prediction10, average='micro')\n",
    "\n",
    "recall10 = recall_score(y_test_multilabel, prediction10, average='micro')\n",
    "\n",
    "f1_score10 = 2*((precision10 * recall10)/(precision10 + recall10))\n",
    "\n",
    "print(\"precision10: {:.4f}, recall10: {:.4f}, F1-measure: {:.4f}\".format(precision10, recall10, f1_score10))"
   ]
  },
  {
   "cell_type": "code",
   "execution_count": 38,
   "metadata": {
    "colab": {
     "base_uri": "https://localhost:8080/",
     "height": 357
    },
    "colab_type": "code",
    "id": "hKET1sFDDCqf",
    "outputId": "fd7cfb67-5b7e-4574-bde1-96c190c97028"
   },
   "outputs": [
    {
     "name": "stdout",
     "output_type": "stream",
     "text": [
      "Movie:  Las brujas de Zugarramurdi\n",
      "Actual genre:  romantic\n",
      "Predicted tag:  ['cult' 'violence'] \n",
      "\n",
      "Movie:  Gunfight at the O.K. Corral\n",
      "Actual genre:  cult, historical\n",
      "Predicted tag:  ['flashback' 'murder' 'violence'] \n",
      "\n",
      "Movie:  The Upturned Glass\n",
      "Actual genre:  revenge, murder\n",
      "Predicted tag:  ['flashback' 'murder' 'romantic'] \n",
      "\n",
      "Movie:  Baby, Take a Bow\n",
      "Actual genre:  melodrama\n",
      "Predicted tag:  ['flashback' 'murder'] \n",
      "\n",
      "Movie:  The Young Savages\n",
      "Actual genre:  murder\n",
      "Predicted tag:  ['murder' 'violence'] \n",
      "\n"
     ]
    }
   ],
   "source": [
    "for i in range(5):\n",
    "    k = test.sample(1).index[0]\n",
    "    print(\"Movie: \", test['title'][k]) \n",
    "    print(\"Actual genre: \",y_test[k])\n",
    "    print(\"Predicted tag: \", cnt_vectorizer.inverse_transform(prediction10[k])[0],\"\\n\")"
   ]
  },
  {
   "cell_type": "markdown",
   "metadata": {
    "colab_type": "text",
    "id": "wX4gYLtVDCqi"
   },
   "source": [
    "<h2> 3.3 OneVsRestClassifier + SGDClassifier with HINGE Loss : </h2>"
   ]
  },
  {
   "cell_type": "code",
   "execution_count": 39,
   "metadata": {
    "colab": {
     "base_uri": "https://localhost:8080/",
     "height": 238
    },
    "colab_type": "code",
    "id": "GZVEbC3qDCqj",
    "outputId": "15882ef3-ee66-4cb8-ceb0-444b63edc264"
   },
   "outputs": [
    {
     "data": {
      "text/plain": [
       "OneVsRestClassifier(estimator=SGDClassifier(class_weight='balanced'))"
      ]
     },
     "execution_count": 39,
     "metadata": {},
     "output_type": "execute_result"
    }
   ],
   "source": [
    "sgh = SGDClassifier(loss='hinge', class_weight='balanced')\n",
    "\n",
    "clf = OneVsRestClassifier(sgh)\n",
    "clf.fit(X_train_multilabel, y_train_multilabel)"
   ]
  },
  {
   "cell_type": "code",
   "execution_count": 40,
   "metadata": {
    "colab": {
     "base_uri": "https://localhost:8080/",
     "height": 34
    },
    "colab_type": "code",
    "id": "5LWHHyAQDCqm",
    "outputId": "3aa6ba7f-92b0-4a91-f5fb-ec7a0160947a"
   },
   "outputs": [
    {
     "name": "stdout",
     "output_type": "stream",
     "text": [
      "precision11: 0.4336, recall11: 0.6679, F1-measure: 0.5258\n"
     ]
    }
   ],
   "source": [
    "prediction11 = clf.predict(X_test_multilabel)\n",
    "\n",
    "precision11 = precision_score(y_test_multilabel, prediction11, average='micro')\n",
    "\n",
    "recall11 = recall_score(y_test_multilabel, prediction11, average='micro')\n",
    "\n",
    "f1_score11 = 2*((precision11 * recall11)/(precision11 + recall11))\n",
    "\n",
    "print(\"precision11: {:.4f}, recall11: {:.4f}, F1-measure: {:.4f}\".format(precision11, recall11, f1_score11))"
   ]
  },
  {
   "cell_type": "code",
   "execution_count": 41,
   "metadata": {
    "colab": {
     "base_uri": "https://localhost:8080/",
     "height": 357
    },
    "colab_type": "code",
    "id": "CmEM5_SRDCqp",
    "outputId": "355e55c8-d058-4559-8cb9-564bbe6cb701"
   },
   "outputs": [
    {
     "name": "stdout",
     "output_type": "stream",
     "text": [
      "Movie:  The Rat Race\n",
      "Actual genre:  romantic\n",
      "Predicted tag:  ['romantic'] \n",
      "\n",
      "Movie:  Gingerdead Man 2: Passion of the Crust\n",
      "Actual genre:  comedy, murder, violence\n",
      "Predicted tag:  ['cult' 'flashback' 'murder' 'violence'] \n",
      "\n",
      "Movie:  Picnic at Hanging Rock\n",
      "Actual genre:  mystery, historical, boring, flashback\n",
      "Predicted tag:  ['cult' 'flashback' 'murder'] \n",
      "\n",
      "Movie:  So weit die Füße tragen\n",
      "Actual genre:  violence, cruelty, sadist, historical fiction\n",
      "Predicted tag:  [] \n",
      "\n",
      "Movie:  A Time to Kill\n",
      "Actual genre:  tragedy, revenge, murder, violence\n",
      "Predicted tag:  ['murder' 'violence'] \n",
      "\n"
     ]
    }
   ],
   "source": [
    "for i in range(5):\n",
    "    k = test.sample(1).index[0]\n",
    "    print(\"Movie: \", test['title'][k]) \n",
    "    print(\"Actual genre: \",y_test[k])\n",
    "    print(\"Predicted tag: \", cnt_vectorizer.inverse_transform(prediction11[k])[0],\"\\n\")"
   ]
  },
  {
   "cell_type": "markdown",
   "metadata": {
    "colab_type": "text",
    "id": "-sO93loIDCqr"
   },
   "source": [
    "<h2> 3.4 OneVsRestClassifier + LogisticRegression:</h2>"
   ]
  },
  {
   "cell_type": "code",
   "execution_count": 42,
   "metadata": {
    "colab": {
     "base_uri": "https://localhost:8080/",
     "height": 187
    },
    "colab_type": "code",
    "id": "Yuv0jqQjDCqs",
    "outputId": "89baf4f8-6cc7-4884-a88a-3366b92fe371"
   },
   "outputs": [
    {
     "data": {
      "text/plain": [
       "OneVsRestClassifier(estimator=LogisticRegression(class_weight='balanced'))"
      ]
     },
     "execution_count": 42,
     "metadata": {},
     "output_type": "execute_result"
    }
   ],
   "source": [
    "lr = LogisticRegression(class_weight='balanced')\n",
    "\n",
    "clf = OneVsRestClassifier(lr)\n",
    "clf.fit(X_train_multilabel, y_train_multilabel)"
   ]
  },
  {
   "cell_type": "code",
   "execution_count": 43,
   "metadata": {
    "colab": {
     "base_uri": "https://localhost:8080/",
     "height": 34
    },
    "colab_type": "code",
    "id": "r5IpjIgRDCqu",
    "outputId": "86947878-d317-41b9-cfeb-c5985f2a961e"
   },
   "outputs": [
    {
     "name": "stdout",
     "output_type": "stream",
     "text": [
      "precision12: 0.4469, recall12: 0.6676, F1-measure: 0.5354\n"
     ]
    }
   ],
   "source": [
    "prediction12 = clf.predict(X_test_multilabel)\n",
    "\n",
    "precision12 = precision_score(y_test_multilabel, prediction12, average='micro')\n",
    "\n",
    "recall12 = recall_score(y_test_multilabel, prediction12, average='micro')\n",
    "\n",
    "f1_score12 = 2*((precision12 * recall12)/(precision12 + recall12))\n",
    "\n",
    "print(\"precision12: {:.4f}, recall12: {:.4f}, F1-measure: {:.4f}\".format(precision12, recall12, f1_score12))"
   ]
  },
  {
   "cell_type": "code",
   "execution_count": 44,
   "metadata": {
    "colab": {
     "base_uri": "https://localhost:8080/",
     "height": 357
    },
    "colab_type": "code",
    "id": "JtzK_F9_DCqx",
    "outputId": "cddecc74-d15d-4c28-859c-9ec37b4e4b16"
   },
   "outputs": [
    {
     "name": "stdout",
     "output_type": "stream",
     "text": [
      "Movie:  Bad Kids Go to Hell\n",
      "Actual genre:  revenge, comedy, murder, flashback\n",
      "Predicted tag:  ['cult' 'flashback' 'murder'] \n",
      "\n",
      "Movie:  The Duellists\n",
      "Actual genre:  violence, action, historical\n",
      "Predicted tag:  ['flashback' 'romantic' 'violence'] \n",
      "\n",
      "Movie:  Absence of Malice\n",
      "Actual genre:  murder\n",
      "Predicted tag:  ['murder'] \n",
      "\n",
      "Movie:  Sea Devils\n",
      "Actual genre:  historical\n",
      "Predicted tag:  ['cult'] \n",
      "\n",
      "Movie:  Mr. Holmes\n",
      "Actual genre:  storytelling, flashback\n",
      "Predicted tag:  ['flashback' 'romantic'] \n",
      "\n"
     ]
    }
   ],
   "source": [
    "for i in range(5):\n",
    "    k = test.sample(1).index[0]\n",
    "    print(\"Movie: \", test['title'][k]) \n",
    "    print(\"Actual genre: \",y_test[k])\n",
    "    print(\"Predicted tag: \", cnt_vectorizer.inverse_transform(prediction12[k])[0],\"\\n\")"
   ]
  },
  {
   "cell_type": "markdown",
   "metadata": {
    "colab_type": "text",
    "id": "j8kihBm_DCq1"
   },
   "source": [
    "<h1>4. TfidfVectorizer with (1 - 4 Grams):</h1>"
   ]
  },
  {
   "cell_type": "code",
   "execution_count": 45,
   "metadata": {
    "colab": {
     "base_uri": "https://localhost:8080/",
     "height": 51
    },
    "colab_type": "code",
    "id": "lUlWmY0tDCq2",
    "outputId": "746f12ef-2269-4850-c13d-a26504435b5d"
   },
   "outputs": [
    {
     "name": "stdout",
     "output_type": "stream",
     "text": [
      "Dimensions of train data X: (10989, 666) Y : (10989, 5)\n",
      "Dimensions of test data X: (2768, 666) Y: (2768, 5)\n"
     ]
    }
   ],
   "source": [
    "tf_vectorizer = TfidfVectorizer(min_df=0.09, tokenizer = lambda x: x.split(\" \"), ngram_range=(1, 4))\n",
    "\n",
    "X_train_multilabel = tf_vectorizer.fit_transform(X_train)\n",
    "X_test_multilabel = tf_vectorizer.transform(X_test)\n",
    "\n",
    "print(\"Dimensions of train data X:\",X_train_multilabel.shape, \"Y :\",y_train_multilabel.shape)\n",
    "print(\"Dimensions of test data X:\",X_test_multilabel.shape,\"Y:\",y_test_multilabel.shape)"
   ]
  },
  {
   "cell_type": "markdown",
   "metadata": {
    "colab_type": "text",
    "id": "1_W1FHeKDCq4"
   },
   "source": [
    "<H2> 4.1 OneVsRestClassifier + MultinomialNB :</H2>"
   ]
  },
  {
   "cell_type": "code",
   "execution_count": 46,
   "metadata": {
    "colab": {
     "base_uri": "https://localhost:8080/",
     "height": 68
    },
    "colab_type": "code",
    "id": "MbdyJ3f2DCq4",
    "outputId": "7bb316ed-7f7c-4144-857e-255d178b5075"
   },
   "outputs": [
    {
     "data": {
      "text/plain": [
       "OneVsRestClassifier(estimator=MultinomialNB(class_prior=[0.5, 0.5]))"
      ]
     },
     "execution_count": 46,
     "metadata": {},
     "output_type": "execute_result"
    }
   ],
   "source": [
    "mb = MultinomialNB(class_prior = [0.5, 0.5])\n",
    "\n",
    "clf = OneVsRestClassifier(mb)\n",
    "clf.fit(X_train_multilabel, y_train_multilabel)"
   ]
  },
  {
   "cell_type": "code",
   "execution_count": 47,
   "metadata": {
    "colab": {
     "base_uri": "https://localhost:8080/",
     "height": 34
    },
    "colab_type": "code",
    "id": "jTFjm6QPDCq6",
    "outputId": "2f8c4c80-8429-435a-a769-e6424eff2656"
   },
   "outputs": [
    {
     "name": "stdout",
     "output_type": "stream",
     "text": [
      "precision13: 0.4120, recall13: 0.6762, F1-measure: 0.5120\n"
     ]
    }
   ],
   "source": [
    "prediction13 = clf.predict(X_test_multilabel)\n",
    "\n",
    "precision13 = precision_score(y_test_multilabel, prediction13, average='micro')\n",
    "\n",
    "recall13 = recall_score(y_test_multilabel, prediction13, average='micro')\n",
    "\n",
    "f1_score13 = 2*((precision13 * recall13)/(precision13 + recall13))\n",
    "\n",
    "print(\"precision13: {:.4f}, recall13: {:.4f}, F1-measure: {:.4f}\".format(precision13, recall13, f1_score13))"
   ]
  },
  {
   "cell_type": "code",
   "execution_count": 48,
   "metadata": {
    "colab": {
     "base_uri": "https://localhost:8080/",
     "height": 357
    },
    "colab_type": "code",
    "id": "bJJjv5l2DCq8",
    "outputId": "3fa522b0-f219-4dc7-9751-431bfa3da4a3"
   },
   "outputs": [
    {
     "name": "stdout",
     "output_type": "stream",
     "text": [
      "Movie:  The Spook Who Sat by the Door\n",
      "Actual genre:  violence, cult, avant garde, murder, blaxploitation\n",
      "Predicted tag:  ['violence'] \n",
      "\n",
      "Movie:  Scapegoat\n",
      "Actual genre:  revenge, suspenseful\n",
      "Predicted tag:  ['murder' 'romantic'] \n",
      "\n",
      "Movie:  Home in Indiana\n",
      "Actual genre:  romantic\n",
      "Predicted tag:  ['romantic'] \n",
      "\n",
      "Movie:  Wagon Master\n",
      "Actual genre:  murder\n",
      "Predicted tag:  ['romantic'] \n",
      "\n",
      "Movie:  Dark Passage\n",
      "Actual genre:  murder, atmospheric\n",
      "Predicted tag:  ['cult' 'murder' 'violence'] \n",
      "\n"
     ]
    }
   ],
   "source": [
    "for i in range(5):\n",
    "    k = test.sample(1).index[0]\n",
    "    print(\"Movie: \", test['title'][k]) \n",
    "    print(\"Actual genre: \",y_test[k])\n",
    "    print(\"Predicted tag: \", cnt_vectorizer.inverse_transform(prediction13[k])[0],\"\\n\")"
   ]
  },
  {
   "cell_type": "markdown",
   "metadata": {
    "colab_type": "text",
    "id": "EEm7sOMIDCrB"
   },
   "source": [
    "<h2> 4.2 OneVsRestClassifier + SGDClassifier with LOG Loss :</h2>"
   ]
  },
  {
   "cell_type": "code",
   "execution_count": 49,
   "metadata": {
    "colab": {
     "base_uri": "https://localhost:8080/",
     "height": 238
    },
    "colab_type": "code",
    "id": "i8hFdSjGDCrD",
    "outputId": "bd2c3730-948c-4752-d228-6c2eaad702b4"
   },
   "outputs": [
    {
     "data": {
      "text/plain": [
       "OneVsRestClassifier(estimator=SGDClassifier(class_weight='balanced',\n",
       "                                            loss='log'))"
      ]
     },
     "execution_count": 49,
     "metadata": {},
     "output_type": "execute_result"
    }
   ],
   "source": [
    "sgl = SGDClassifier(loss='log', class_weight='balanced')\n",
    "\n",
    "clf = OneVsRestClassifier(sgl)\n",
    "clf.fit(X_train_multilabel, y_train_multilabel)"
   ]
  },
  {
   "cell_type": "code",
   "execution_count": 50,
   "metadata": {
    "colab": {
     "base_uri": "https://localhost:8080/",
     "height": 34
    },
    "colab_type": "code",
    "id": "RmVCDapEDCrF",
    "outputId": "f0b84793-3a42-4d30-8c98-6773be7dc9bc"
   },
   "outputs": [
    {
     "name": "stdout",
     "output_type": "stream",
     "text": [
      "precision14: 0.4448, recall14: 0.6746, F1-measure: 0.5361\n"
     ]
    }
   ],
   "source": [
    "prediction14 = clf.predict(X_test_multilabel)\n",
    "\n",
    "precision14 = precision_score(y_test_multilabel, prediction14, average='micro')\n",
    "\n",
    "recall14 = recall_score(y_test_multilabel, prediction14, average='micro')\n",
    "\n",
    "f1_score14 = 2*((precision14 * recall14)/(precision14 + recall14))\n",
    "\n",
    "print(\"precision14: {:.4f}, recall14: {:.4f}, F1-measure: {:.4f}\".format(precision14, recall14, f1_score14))"
   ]
  },
  {
   "cell_type": "code",
   "execution_count": 51,
   "metadata": {
    "colab": {
     "base_uri": "https://localhost:8080/",
     "height": 357
    },
    "colab_type": "code",
    "id": "a47_6ckUDCrL",
    "outputId": "d7e06c08-4aee-4cfd-be9c-2086aa8ada4b"
   },
   "outputs": [
    {
     "name": "stdout",
     "output_type": "stream",
     "text": [
      "Movie:  Teenage Caveman\n",
      "Actual genre:  pornographic\n",
      "Predicted tag:  ['cult' 'murder'] \n",
      "\n",
      "Movie:  Paul\n",
      "Actual genre:  humor, psychedelic, comedy, murder, flashback\n",
      "Predicted tag:  ['cult' 'violence'] \n",
      "\n",
      "Movie:  Yadon ilaheyya\n",
      "Actual genre:  romantic, satire\n",
      "Predicted tag:  ['cult' 'violence'] \n",
      "\n",
      "Movie:  Letters from Iwo Jima\n",
      "Actual genre:  boring, murder, dramatic, violence, flashback, claustrophobic, sentimental\n",
      "Predicted tag:  ['violence'] \n",
      "\n",
      "Movie:  The Bucket List\n",
      "Actual genre:  romantic, comedy, philosophical, boring\n",
      "Predicted tag:  ['romantic'] \n",
      "\n"
     ]
    }
   ],
   "source": [
    "for i in range(5):\n",
    "    k = test.sample(1).index[0]\n",
    "    print(\"Movie: \", test['title'][k]) \n",
    "    print(\"Actual genre: \",y_test[k])\n",
    "    print(\"Predicted tag: \", cnt_vectorizer.inverse_transform(prediction14[k])[0],\"\\n\")"
   ]
  },
  {
   "cell_type": "markdown",
   "metadata": {
    "colab_type": "text",
    "id": "ZQFSV7cfDCrN"
   },
   "source": [
    "<h2> 4.3 OneVsRestClassifier + SGDClassifier with HINGE Loss : </h2>"
   ]
  },
  {
   "cell_type": "code",
   "execution_count": 52,
   "metadata": {
    "colab": {
     "base_uri": "https://localhost:8080/",
     "height": 238
    },
    "colab_type": "code",
    "id": "2cWlmf_6DCrN",
    "outputId": "73ede79a-91f0-4072-bc68-5fbb292b33d3"
   },
   "outputs": [
    {
     "data": {
      "text/plain": [
       "OneVsRestClassifier(estimator=SGDClassifier(class_weight='balanced'))"
      ]
     },
     "execution_count": 52,
     "metadata": {},
     "output_type": "execute_result"
    }
   ],
   "source": [
    "sgh = SGDClassifier(loss='hinge', class_weight='balanced')\n",
    "\n",
    "clf = OneVsRestClassifier(sgh)\n",
    "clf.fit(X_train_multilabel, y_train_multilabel)"
   ]
  },
  {
   "cell_type": "code",
   "execution_count": 53,
   "metadata": {
    "colab": {
     "base_uri": "https://localhost:8080/",
     "height": 34
    },
    "colab_type": "code",
    "id": "eu3J-6tbDCrR",
    "outputId": "b908fc11-121d-49b5-e213-db4a93573ead"
   },
   "outputs": [
    {
     "name": "stdout",
     "output_type": "stream",
     "text": [
      "precision15: 0.4427, recall15: 0.6486, F1-measure: 0.5262\n"
     ]
    }
   ],
   "source": [
    "prediction15 = clf.predict(X_test_multilabel)\n",
    "\n",
    "precision15 = precision_score(y_test_multilabel, prediction15, average='micro')\n",
    "\n",
    "recall15 = recall_score(y_test_multilabel, prediction15, average='micro')\n",
    "\n",
    "f1_score15 = 2*((precision15 * recall15)/(precision15 + recall15))\n",
    "\n",
    "print(\"precision15: {:.4f}, recall15: {:.4f}, F1-measure: {:.4f}\".format(precision15, recall15, f1_score15))"
   ]
  },
  {
   "cell_type": "code",
   "execution_count": 54,
   "metadata": {
    "colab": {
     "base_uri": "https://localhost:8080/",
     "height": 357
    },
    "colab_type": "code",
    "id": "xLiyKSgxDCrT",
    "outputId": "bb7492a6-3b8d-4f17-ac1c-d67cee49585f"
   },
   "outputs": [
    {
     "name": "stdout",
     "output_type": "stream",
     "text": [
      "Movie:  What's Your Raashee?\n",
      "Actual genre:  prank\n",
      "Predicted tag:  ['flashback' 'romantic'] \n",
      "\n",
      "Movie:  Sick Girl\n",
      "Actual genre:  revenge, murder\n",
      "Predicted tag:  ['cult' 'flashback' 'murder' 'violence'] \n",
      "\n",
      "Movie:  Slightly Scarlet\n",
      "Actual genre:  murder\n",
      "Predicted tag:  ['flashback' 'murder' 'romantic' 'violence'] \n",
      "\n",
      "Movie:  Istanbul United\n",
      "Actual genre:  violence\n",
      "Predicted tag:  ['romantic'] \n",
      "\n",
      "Movie:  The Last Legion\n",
      "Actual genre:  good versus evil, action\n",
      "Predicted tag:  ['flashback' 'murder' 'violence'] \n",
      "\n"
     ]
    }
   ],
   "source": [
    "for i in range(5):\n",
    "    k = test.sample(1).index[0]\n",
    "    print(\"Movie: \", test['title'][k]) \n",
    "    print(\"Actual genre: \",y_test[k])\n",
    "    print(\"Predicted tag: \", cnt_vectorizer.inverse_transform(prediction15[k])[0],\"\\n\")"
   ]
  },
  {
   "cell_type": "markdown",
   "metadata": {
    "colab_type": "text",
    "id": "ledBrICiDCrX"
   },
   "source": [
    "<h2> 4.4 OneVsRestClassifier + LogisticRegression:</h2>"
   ]
  },
  {
   "cell_type": "code",
   "execution_count": 55,
   "metadata": {
    "colab": {
     "base_uri": "https://localhost:8080/",
     "height": 187
    },
    "colab_type": "code",
    "id": "QNbViIV5DCrY",
    "outputId": "2ca35770-3889-4f44-bca5-abfebc8d3249"
   },
   "outputs": [
    {
     "data": {
      "text/plain": [
       "OneVsRestClassifier(estimator=LogisticRegression(class_weight='balanced'))"
      ]
     },
     "execution_count": 55,
     "metadata": {},
     "output_type": "execute_result"
    }
   ],
   "source": [
    "lr = LogisticRegression(class_weight='balanced')\n",
    "\n",
    "clf = OneVsRestClassifier(lr)\n",
    "clf.fit(X_train_multilabel, y_train_multilabel)"
   ]
  },
  {
   "cell_type": "code",
   "execution_count": 56,
   "metadata": {
    "colab": {
     "base_uri": "https://localhost:8080/",
     "height": 34
    },
    "colab_type": "code",
    "id": "QkWjv0t1DCrb",
    "outputId": "d3df5b29-2748-4016-c325-f0dc0bbc4bc3"
   },
   "outputs": [
    {
     "name": "stdout",
     "output_type": "stream",
     "text": [
      "precision16: 0.4469, recall16: 0.6676, F1-measure: 0.5354\n"
     ]
    }
   ],
   "source": [
    "prediction16 = clf.predict(X_test_multilabel)\n",
    "\n",
    "precision16 = precision_score(y_test_multilabel, prediction16, average='micro')\n",
    "\n",
    "recall16 = recall_score(y_test_multilabel, prediction16, average='micro')\n",
    "\n",
    "f1_score16 = 2*((precision16 * recall16)/(precision16 + recall16))\n",
    "\n",
    "print(\"precision16: {:.4f}, recall16: {:.4f}, F1-measure: {:.4f}\".format(precision16, recall16, f1_score16))"
   ]
  },
  {
   "cell_type": "code",
   "execution_count": 57,
   "metadata": {
    "colab": {
     "base_uri": "https://localhost:8080/",
     "height": 357
    },
    "colab_type": "code",
    "id": "gPKu18VODCrf",
    "outputId": "9fca44b6-d207-4007-c11c-5dcb0cae163a"
   },
   "outputs": [
    {
     "name": "stdout",
     "output_type": "stream",
     "text": [
      "Movie:  The Minus Man\n",
      "Actual genre:  violence, murder, home movie\n",
      "Predicted tag:  ['cult' 'murder' 'violence'] \n",
      "\n",
      "Movie:  Hotel Rwanda\n",
      "Actual genre:  mystery, cruelty, murder, depressing, dramatic, violence, good versus evil, tragedy, romantic, historical\n",
      "Predicted tag:  ['murder'] \n",
      "\n",
      "Movie:  Cliffhanger\n",
      "Actual genre:  mystery, suspenseful, cult, violence, good versus evil, action, tragedy, revenge\n",
      "Predicted tag:  ['cult' 'murder' 'violence'] \n",
      "\n",
      "Movie:  The Road Killers\n",
      "Actual genre:  revenge, cult, murder, sadist\n",
      "Predicted tag:  ['cult' 'murder' 'violence'] \n",
      "\n",
      "Movie:  Forrest Gump\n",
      "Actual genre:  comedy, psychological, stupid, whimsical, dramatic, cult, cute, clever, flashback, historical fiction, psychedelic, humor, action, feel-good, melodrama, inspiring, romantic, historical, entertaining, sentimental\n",
      "Predicted tag:  ['flashback' 'romantic'] \n",
      "\n"
     ]
    }
   ],
   "source": [
    "for i in range(5):\n",
    "    k = test.sample(1).index[0]\n",
    "    print(\"Movie: \", test['title'][k]) \n",
    "    print(\"Actual genre: \",y_test[k])\n",
    "    print(\"Predicted tag: \", cnt_vectorizer.inverse_transform(prediction16[k])[0],\"\\n\")"
   ]
  },
  {
   "cell_type": "markdown",
   "metadata": {
    "colab_type": "text",
    "id": "TL9oONdSDCri"
   },
   "source": [
    "<h1> Conclusion: </h1>"
   ]
  },
  {
   "cell_type": "code",
   "execution_count": 58,
   "metadata": {
    "colab": {
     "base_uri": "https://localhost:8080/",
     "height": 459
    },
    "colab_type": "code",
    "id": "bLYF9nL-DCri",
    "outputId": "8b8adbe8-7f35-4978-ca0c-e00b53963095",
    "scrolled": false
   },
   "outputs": [
    {
     "name": "stdout",
     "output_type": "stream",
     "text": [
      "+----------------------+-----------------+--------+-----------+--------+----------+\n",
      "|        Model         |    Vectorizer   | ngrams | Precision | recall | f1_score |\n",
      "+----------------------+-----------------+--------+-----------+--------+----------+\n",
      "|    MultinomialNB     | TfidfVectorizer | (1, 1) |   0.411   | 0.676  |  0.511   |\n",
      "|  SGDClassifier(log)  | TfidfVectorizer | (1, 1) |   0.448   | 0.676  |  0.539   |\n",
      "| SGDClassifier(hinge) | TfidfVectorizer | (1, 1) |   0.435   | 0.674  |  0.529   |\n",
      "|  LogisticRegression  | TfidfVectorizer | (1, 1) |   0.447   | 0.668  |  0.535   |\n",
      "|                      |                 |        |           |        |          |\n",
      "|                      |                 |        |           |        |          |\n",
      "|    MultinomialNB     | TfidfVectorizer | (1, 2) |   0.412   | 0.676  |  0.512   |\n",
      "|  SGDClassifier(log)  | TfidfVectorizer | (1, 2) |   0.455   |  0.66  |  0.539   |\n",
      "| SGDClassifier(hinge) | TfidfVectorizer | (1, 2) |   0.441   | 0.672  |  0.533   |\n",
      "|  LogisticRegression  | TfidfVectorizer | (1, 2) |   0.447   | 0.668  |  0.535   |\n",
      "|                      |                 |        |           |        |          |\n",
      "|                      |                 |        |           |        |          |\n",
      "|    MultinomialNB     | TfidfVectorizer | (1, 3) |   0.412   | 0.676  |  0.512   |\n",
      "|  SGDClassifier(log)  | TfidfVectorizer | (1, 3) |   0.444   | 0.665  |  0.532   |\n",
      "| SGDClassifier(hinge) | TfidfVectorizer | (1, 3) |   0.434   | 0.668  |  0.526   |\n",
      "|  LogisticRegression  | TfidfVectorizer | (1, 3) |   0.447   | 0.668  |  0.535   |\n",
      "|                      |                 |        |           |        |          |\n",
      "|                      |                 |        |           |        |          |\n",
      "|    MultinomialNB     | TfidfVectorizer | (1, 4) |   0.412   | 0.676  |  0.512   |\n",
      "|  SGDClassifier(log)  | TfidfVectorizer | (1, 4) |   0.445   | 0.675  |  0.536   |\n",
      "| SGDClassifier(hinge) | TfidfVectorizer | (1, 4) |   0.443   | 0.649  |  0.526   |\n",
      "|  LogisticRegression  | TfidfVectorizer | (1, 4) |   0.447   | 0.668  |  0.535   |\n",
      "+----------------------+-----------------+--------+-----------+--------+----------+\n"
     ]
    }
   ],
   "source": [
    "from prettytable import PrettyTable\n",
    "\n",
    "tabel = PrettyTable()\n",
    "\n",
    "tabel.field_names=['Model','Vectorizer','ngrams','Precision','recall','f1_score']\n",
    "\n",
    "\n",
    "\n",
    "tabel.add_row(['MultinomialNB', 'TfidfVectorizer', '(1, 1)', round(precision1, 3),round(recall1, 3), round(f1_score1, 3)])\n",
    "\n",
    "tabel.add_row(['SGDClassifier(log)', 'TfidfVectorizer', '(1, 1)', round(precision2, 3), round(recall2, 3), round(f1_score2, 3)])\n",
    "\n",
    "tabel.add_row(['SGDClassifier(hinge)','TfidfVectorizer','(1, 1)' ,round(precision3, 3),  round(recall3, 3), round(f1_score3, 3)])\n",
    "\n",
    "tabel.add_row(['LogisticRegression','TfidfVectorizer','(1, 1)', round(precision4, 3), round(recall4, 3), round(f1_score4, 3)])\n",
    "\n",
    "tabel.add_row(['','','','','',''])\n",
    "tabel.add_row(['','','','','',''])\n",
    "\n",
    "\n",
    "tabel.add_row(['MultinomialNB', 'TfidfVectorizer', '(1, 2)', round(precision5, 3), round(recall5, 3),  round(f1_score5, 3)])\n",
    "\n",
    "tabel.add_row(['SGDClassifier(log)', 'TfidfVectorizer', '(1, 2)', round(precision6, 3),  round(recall6, 3),  round(f1_score6, 3)])\n",
    "\n",
    "tabel.add_row(['SGDClassifier(hinge)','TfidfVectorizer','(1, 2)', round(precision7, 3),  round(recall7, 3),  round(f1_score7, 3)])\n",
    "\n",
    "tabel.add_row(['LogisticRegression','TfidfVectorizer','(1, 2)', round(precision8, 3),  round(recall8, 3),  round(f1_score8, 3)])\n",
    "\n",
    "tabel.add_row(['','','','','',''])\n",
    "tabel.add_row(['','','','','',''])\n",
    "\n",
    "\n",
    "tabel.add_row(['MultinomialNB', 'TfidfVectorizer', '(1, 3)', round(precision9, 3),  round(recall9, 3), round(f1_score9, 3)])\n",
    "\n",
    "tabel.add_row(['SGDClassifier(log)', 'TfidfVectorizer', '(1, 3)', round(precision10, 3),  round(recall10, 3), round(f1_score10, 3)])\n",
    "\n",
    "tabel.add_row(['SGDClassifier(hinge)','TfidfVectorizer','(1, 3)', round(precision11, 3),  round(recall11, 3), round(f1_score11, 3)])\n",
    "\n",
    "tabel.add_row(['LogisticRegression','TfidfVectorizer','(1, 3)', round(precision12, 3),  round(recall12, 3), round(f1_score12, 3)])\n",
    "\n",
    "tabel.add_row(['','','','','',''])\n",
    "tabel.add_row(['','','','','',''])\n",
    "\n",
    "tabel.add_row(['MultinomialNB', 'TfidfVectorizer', '(1, 4)', round(precision13, 3), round(recall13, 3), round(f1_score13, 3)])\n",
    "\n",
    "tabel.add_row(['SGDClassifier(log)', 'TfidfVectorizer', '(1, 4)', round(precision14, 3), round(recall14, 3), round(f1_score14, 3)])\n",
    "\n",
    "tabel.add_row(['SGDClassifier(hinge)','TfidfVectorizer','(1, 4)', round(precision15, 3), round(recall15, 3), round(f1_score15, 3)])\n",
    "\n",
    "tabel.add_row(['LogisticRegression','TfidfVectorizer','(1, 4)', round(precision16, 3),  round(recall16, 3),  round(f1_score16, 3)])\n",
    "\n",
    "\n",
    "\n",
    "print(tabel)"
   ]
  },
  {
   "cell_type": "markdown",
   "metadata": {
    "colab_type": "text",
    "id": "FD7mETO2neaC"
   },
   "source": [
    "<h1>5. Word2Vec</h1>"
   ]
  },
  {
   "cell_type": "code",
   "execution_count": 59,
   "metadata": {
    "colab": {
     "base_uri": "https://localhost:8080/",
     "height": 34
    },
    "colab_type": "code",
    "id": "kHchBsAgneaD",
    "outputId": "a00ad283-6d76-4fb6-d6dc-eeebfae30b4e"
   },
   "outputs": [
    {
     "name": "stderr",
     "output_type": "stream",
     "text": [
      "100%|██████████████████████████████████████████████████████████████████████████| 10989/10989 [00:01<00:00, 7231.48it/s]\n"
     ]
    }
   ],
   "source": [
    "X_train_new = []\n",
    "\n",
    "for i in tqdm(range(len(list(X_train)))):\n",
    "    X_train_new.append(X_train[i].split(\" \"))"
   ]
  },
  {
   "cell_type": "code",
   "execution_count": 62,
   "metadata": {},
   "outputs": [],
   "source": [
    "with open('pickled glove 6b 300d.pkl', 'rb') as f:\n",
    "    new_model = pickle.load(f)\n",
    "    words =  set(new_model.keys())"
   ]
  },
  {
   "cell_type": "code",
   "execution_count": 63,
   "metadata": {
    "colab": {
     "base_uri": "https://localhost:8080/",
     "height": 34
    },
    "colab_type": "code",
    "id": "uPjE27RGneaL",
    "outputId": "c84998ef-736f-43aa-fd7b-ed0394236718"
   },
   "outputs": [
    {
     "name": "stderr",
     "output_type": "stream",
     "text": [
      "100%|███████████████████████████████████████████████████████████████████████████| 10989/10989 [00:21<00:00, 512.94it/s]\n"
     ]
    }
   ],
   "source": [
    "X_train_multilabel = []; # the avg-w2v for each sentence/review is stored in this list\n",
    "for sentence in tqdm(X_train.values): # for each review/sentence\n",
    "    vector = np.zeros(300) # as word vectors are of zero length\n",
    "    cnt_words =0; # num of words with a valid vector in the sentence/review\n",
    "    for word in sentence.split():\n",
    "        if word in words:\n",
    "            vector += new_model[word]\n",
    "            cnt_words += 1\n",
    "    if cnt_words != 0:\n",
    "        vector /= cnt_words\n",
    "    X_train_multilabel.append(vector)"
   ]
  },
  {
   "cell_type": "code",
   "execution_count": 64,
   "metadata": {
    "colab": {
     "base_uri": "https://localhost:8080/",
     "height": 34
    },
    "colab_type": "code",
    "id": "3LElplKSneaN",
    "outputId": "8d96e0b0-c62c-449e-dd24-7130c553a62f"
   },
   "outputs": [
    {
     "name": "stderr",
     "output_type": "stream",
     "text": [
      "100%|█████████████████████████████████████████████████████████████████████████████| 2768/2768 [00:07<00:00, 348.74it/s]\n"
     ]
    }
   ],
   "source": [
    "X_test_multilabel = []; # the avg-w2v for each sentence/review is stored in this list\n",
    "for sentence in tqdm(X_test.values): # for each review/sentence\n",
    "    vector = np.zeros(300) # as word vectors are of zero length\n",
    "    cnt_words =0; # num of words with a valid vector in the sentence/review\n",
    "    for word in sentence.split():\n",
    "        if word in words:\n",
    "            vector += new_model[word]\n",
    "            cnt_words += 1\n",
    "    if cnt_words != 0:\n",
    "        vector /= cnt_words\n",
    "    X_test_multilabel.append(vector)"
   ]
  },
  {
   "cell_type": "markdown",
   "metadata": {
    "colab_type": "text",
    "id": "42x_61umneaR"
   },
   "source": [
    "<H2> 5.1 OneVsRestClassifier + SGDClassifier with LOG Loss :</H2>"
   ]
  },
  {
   "cell_type": "code",
   "execution_count": 65,
   "metadata": {
    "colab": {
     "base_uri": "https://localhost:8080/",
     "height": 238
    },
    "colab_type": "code",
    "id": "rOdod1QwneaR",
    "outputId": "c755b020-08fe-4859-e5e5-8ddbf917c296"
   },
   "outputs": [
    {
     "data": {
      "text/plain": [
       "OneVsRestClassifier(estimator=SGDClassifier(class_weight='balanced',\n",
       "                                            loss='log'))"
      ]
     },
     "execution_count": 65,
     "metadata": {},
     "output_type": "execute_result"
    }
   ],
   "source": [
    "sgl = SGDClassifier(loss='log', class_weight='balanced')\n",
    "\n",
    "clf = OneVsRestClassifier(sgl)\n",
    "clf.fit(X_train_multilabel, y_train_multilabel)"
   ]
  },
  {
   "cell_type": "code",
   "execution_count": 66,
   "metadata": {
    "colab": {
     "base_uri": "https://localhost:8080/",
     "height": 34
    },
    "colab_type": "code",
    "id": "-bBpSSF0neaT",
    "outputId": "06f803cd-4a98-4879-d70b-07a709f9f22e"
   },
   "outputs": [
    {
     "name": "stdout",
     "output_type": "stream",
     "text": [
      "precision17: 0.4103, recall17: 0.6801, F1-measure: 0.5119\n"
     ]
    }
   ],
   "source": [
    "prediction17 = clf.predict(X_test_multilabel)\n",
    "\n",
    "precision17 = precision_score(y_test_multilabel, prediction17, average='micro')\n",
    "\n",
    "recall17 = recall_score(y_test_multilabel, prediction17, average='micro')\n",
    "\n",
    "f1_score17 = 2*((precision17 * recall17)/(precision17 + recall17))\n",
    "\n",
    "print(\"precision17: {:.4f}, recall17: {:.4f}, F1-measure: {:.4f}\".format(precision17, recall17, f1_score17))"
   ]
  },
  {
   "cell_type": "code",
   "execution_count": 67,
   "metadata": {
    "colab": {
     "base_uri": "https://localhost:8080/",
     "height": 357
    },
    "colab_type": "code",
    "id": "v4t1KcbqneaV",
    "outputId": "dd6f896a-f4f6-4796-a9e9-187db5f00302"
   },
   "outputs": [
    {
     "name": "stdout",
     "output_type": "stream",
     "text": [
      "Movie:  Last of the Dogmen\n",
      "Actual genre:  comedy, flashback\n",
      "Predicted tag:  ['cult' 'murder' 'violence'] \n",
      "\n",
      "Movie:  Some Like It Hot\n",
      "Actual genre:  entertaining, cult, comedy, murder, romantic\n",
      "Predicted tag:  [] \n",
      "\n",
      "Movie:  I'm Not There.\n",
      "Actual genre:  cruelty, anti war, cult, psychedelic, satire, romantic, revenge\n",
      "Predicted tag:  ['cult' 'flashback' 'romantic'] \n",
      "\n",
      "Movie:  Senjo no Varukyuria: Garian keronikeruzu\n",
      "Actual genre:  tragedy\n",
      "Predicted tag:  ['violence'] \n",
      "\n",
      "Movie:  Thunder Afloat\n",
      "Actual genre:  revenge\n",
      "Predicted tag:  ['cult'] \n",
      "\n"
     ]
    }
   ],
   "source": [
    "for i in range(5):\n",
    "    k = test.sample(1).index[0]\n",
    "    print(\"Movie: \", test['title'][k]) \n",
    "    print(\"Actual genre: \",y_test[k])\n",
    "    print(\"Predicted tag: \", cnt_vectorizer.inverse_transform(prediction17[k])[0],\"\\n\")"
   ]
  },
  {
   "cell_type": "markdown",
   "metadata": {
    "colab_type": "text",
    "id": "6zZOZxfzneaX"
   },
   "source": [
    "<h2> 5.2 OneVsRestClassifier + SGDClassifier with HINGE Loss : </h2>"
   ]
  },
  {
   "cell_type": "code",
   "execution_count": 68,
   "metadata": {
    "colab": {
     "base_uri": "https://localhost:8080/",
     "height": 238
    },
    "colab_type": "code",
    "id": "J9Vpw0xVneaX",
    "outputId": "c670566e-a2b9-4db8-efa5-fcc16e3a8b7f"
   },
   "outputs": [
    {
     "data": {
      "text/plain": [
       "OneVsRestClassifier(estimator=SGDClassifier(class_weight='balanced'))"
      ]
     },
     "execution_count": 68,
     "metadata": {},
     "output_type": "execute_result"
    }
   ],
   "source": [
    "sgh = SGDClassifier(loss='hinge', class_weight='balanced')\n",
    "\n",
    "clf = OneVsRestClassifier(sgh)\n",
    "clf.fit(X_train_multilabel, y_train_multilabel)"
   ]
  },
  {
   "cell_type": "code",
   "execution_count": 69,
   "metadata": {
    "colab": {
     "base_uri": "https://localhost:8080/",
     "height": 34
    },
    "colab_type": "code",
    "id": "abqpO_6gneaZ",
    "outputId": "811c97b2-9b3e-4d75-8dbb-36a1e709cdbc"
   },
   "outputs": [
    {
     "name": "stdout",
     "output_type": "stream",
     "text": [
      "precision18: 0.3975, recall18: 0.6944, F1-measure: 0.5056\n"
     ]
    }
   ],
   "source": [
    "prediction18 = clf.predict(X_test_multilabel)\n",
    "\n",
    "precision18 = precision_score(y_test_multilabel, prediction18, average='micro')\n",
    "\n",
    "recall18 = recall_score(y_test_multilabel, prediction18, average='micro')\n",
    "\n",
    "f1_score18 = 2*((precision18 * recall18)/(precision18 + recall18))\n",
    "\n",
    "print(\"precision18: {:.4f}, recall18: {:.4f}, F1-measure: {:.4f}\".format(precision18, recall18, f1_score18))"
   ]
  },
  {
   "cell_type": "code",
   "execution_count": 70,
   "metadata": {
    "colab": {
     "base_uri": "https://localhost:8080/",
     "height": 357
    },
    "colab_type": "code",
    "id": "gus5nGHTneab",
    "outputId": "0e071df3-cdf4-42d2-e554-dfe43ed9a006"
   },
   "outputs": [
    {
     "name": "stdout",
     "output_type": "stream",
     "text": [
      "Movie:  Santa sangre\n",
      "Actual genre:  avant garde, mystery, murder, suspenseful, thought-provoking, cult, violence, atmospheric, absurd, psychedelic, revenge, entertaining\n",
      "Predicted tag:  ['cult' 'flashback' 'murder' 'violence'] \n",
      "\n",
      "Movie:  System Shock\n",
      "Actual genre:  sci-fi\n",
      "Predicted tag:  ['cult' 'flashback' 'violence'] \n",
      "\n",
      "Movie:  Child's Play 3\n",
      "Actual genre:  violence, comedy, gothic, dark, storytelling\n",
      "Predicted tag:  ['cult' 'violence'] \n",
      "\n",
      "Movie:  Wrong Side of Town\n",
      "Actual genre:  revenge\n",
      "Predicted tag:  ['murder' 'violence'] \n",
      "\n",
      "Movie:  Cameron's Closet\n",
      "Actual genre:  paranormal\n",
      "Predicted tag:  ['cult' 'flashback' 'murder' 'violence'] \n",
      "\n"
     ]
    }
   ],
   "source": [
    "for i in range(5):\n",
    "    k = test.sample(1).index[0]\n",
    "    print(\"Movie: \", test['title'][k]) \n",
    "    print(\"Actual genre: \",y_test[k])\n",
    "    print(\"Predicted tag: \", cnt_vectorizer.inverse_transform(prediction18[k])[0],\"\\n\")"
   ]
  },
  {
   "cell_type": "markdown",
   "metadata": {
    "colab_type": "text",
    "id": "6nd0BkwVnead"
   },
   "source": [
    "<h2> 5.3 OneVsRestClassifier + LogisticRegression:</h2>"
   ]
  },
  {
   "cell_type": "code",
   "execution_count": 71,
   "metadata": {
    "colab": {
     "base_uri": "https://localhost:8080/",
     "height": 187
    },
    "colab_type": "code",
    "id": "ofetdopdnead",
    "outputId": "858873ad-6902-4e6d-db00-978f74e46282"
   },
   "outputs": [
    {
     "data": {
      "text/plain": [
       "OneVsRestClassifier(estimator=LogisticRegression(class_weight='balanced'))"
      ]
     },
     "execution_count": 71,
     "metadata": {},
     "output_type": "execute_result"
    }
   ],
   "source": [
    "lr = LogisticRegression(class_weight='balanced')\n",
    "\n",
    "clf = OneVsRestClassifier(lr)\n",
    "clf.fit(X_train_multilabel, y_train_multilabel)"
   ]
  },
  {
   "cell_type": "code",
   "execution_count": 72,
   "metadata": {
    "colab": {
     "base_uri": "https://localhost:8080/",
     "height": 34
    },
    "colab_type": "code",
    "id": "zjOVPAEKneae",
    "outputId": "79e71214-d5e4-484f-dbb2-061fa99f6489"
   },
   "outputs": [
    {
     "name": "stdout",
     "output_type": "stream",
     "text": [
      "precision19: 0.4183, recall19: 0.6740, F1-measure: 0.5162\n"
     ]
    }
   ],
   "source": [
    "prediction19 = clf.predict(X_test_multilabel)\n",
    "\n",
    "precision19 = precision_score(y_test_multilabel, prediction19, average='micro')\n",
    "\n",
    "recall19 = recall_score(y_test_multilabel, prediction19, average='micro')\n",
    "\n",
    "f1_score19 = 2*((precision19 * recall19)/(precision19 + recall19))\n",
    "\n",
    "print(\"precision19: {:.4f}, recall19: {:.4f}, F1-measure: {:.4f}\".format(precision19, recall19, f1_score19))"
   ]
  },
  {
   "cell_type": "code",
   "execution_count": 73,
   "metadata": {
    "colab": {
     "base_uri": "https://localhost:8080/",
     "height": 357
    },
    "colab_type": "code",
    "id": "1QytHIpWneag",
    "outputId": "59a513b0-71f7-40f4-a255-d92e3d6ee01d"
   },
   "outputs": [
    {
     "name": "stdout",
     "output_type": "stream",
     "text": [
      "Movie:  Wilby Wonderful\n",
      "Actual genre:  comedy\n",
      "Predicted tag:  ['flashback'] \n",
      "\n",
      "Movie:  How to Steal a Million\n",
      "Actual genre:  comedy\n",
      "Predicted tag:  ['cult'] \n",
      "\n",
      "Movie:  Shuttle\n",
      "Actual genre:  murder\n",
      "Predicted tag:  ['cult' 'flashback' 'murder' 'violence'] \n",
      "\n",
      "Movie:  The Son of No One\n",
      "Actual genre:  mystery, boring, murder, flashback\n",
      "Predicted tag:  ['flashback' 'murder' 'violence'] \n",
      "\n",
      "Movie:  The Virgin Queen\n",
      "Actual genre:  romantic, intrigue\n",
      "Predicted tag:  ['romantic'] \n",
      "\n"
     ]
    }
   ],
   "source": [
    "for i in range(5):\n",
    "    k = test.sample(1).index[0]\n",
    "    print(\"Movie: \", test['title'][k]) \n",
    "    print(\"Actual genre: \",y_test[k])\n",
    "    print(\"Predicted tag: \", cnt_vectorizer.inverse_transform(prediction19[k])[0],\"\\n\")"
   ]
  },
  {
   "cell_type": "markdown",
   "metadata": {
    "colab_type": "text",
    "id": "Jtk5A_Joneai"
   },
   "source": [
    "<h1>Conclusion</h1>"
   ]
  },
  {
   "cell_type": "code",
   "execution_count": 74,
   "metadata": {
    "colab": {
     "base_uri": "https://localhost:8080/",
     "height": 136
    },
    "colab_type": "code",
    "id": "J2VEpUwbneai",
    "outputId": "b5e7c446-00ec-4c36-f1e0-1a9f34d72cab"
   },
   "outputs": [
    {
     "name": "stdout",
     "output_type": "stream",
     "text": [
      "+----------------------+------------+-----------+--------+----------+\n",
      "|        Model         | Vectorizer | Precision | recall | f1_score |\n",
      "+----------------------+------------+-----------+--------+----------+\n",
      "|  SGDClassifier(log)  |  AVG W2V   |    0.41   |  0.68  |  0.512   |\n",
      "| SGDClassifier(hinge) |  AVG W2V   |   0.398   | 0.694  |  0.506   |\n",
      "|  LogisticRegression  |  AVG W2V   |   0.418   | 0.674  |  0.516   |\n",
      "+----------------------+------------+-----------+--------+----------+\n"
     ]
    }
   ],
   "source": [
    "from prettytable import PrettyTable\n",
    "\n",
    "tabel = PrettyTable()\n",
    "\n",
    "tabel.field_names=['Model', 'Vectorizer', 'Precision','recall','f1_score']\n",
    "\n",
    "\n",
    "tabel.add_row(['SGDClassifier(log)', 'AVG W2V',  round(precision17, 3), round(recall17, 3), round(f1_score17, 3)])\n",
    "\n",
    "tabel.add_row(['SGDClassifier(hinge)','AVG W2V', round(precision18, 3),  round(recall18, 3), round(f1_score18, 3)])\n",
    "\n",
    "tabel.add_row(['LogisticRegression','AVG W2V', round(precision19, 3), round(recall19, 3), round(f1_score19, 3)])\n",
    "\n",
    "\n",
    "print(tabel)"
   ]
  }
 ],
 "metadata": {
  "accelerator": "GPU",
  "colab": {
   "collapsed_sections": [],
   "machine_shape": "hm",
   "name": "modeling_with_all_tags (2) (1).ipynb",
   "provenance": []
  },
  "kernelspec": {
   "display_name": "Python 3",
   "language": "python",
   "name": "python3"
  },
  "language_info": {
   "codemirror_mode": {
    "name": "ipython",
    "version": 3
   },
   "file_extension": ".py",
   "mimetype": "text/x-python",
   "name": "python",
   "nbconvert_exporter": "python",
   "pygments_lexer": "ipython3",
   "version": "3.8.8"
  }
 },
 "nbformat": 4,
 "nbformat_minor": 1
}
